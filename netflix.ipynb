{
 "cells": [
  {
   "cell_type": "markdown",
   "id": "921b70af",
   "metadata": {
    "papermill": {
     "duration": 0.014297,
     "end_time": "2024-01-13T10:43:45.088992",
     "exception": false,
     "start_time": "2024-01-13T10:43:45.074695",
     "status": "completed"
    },
    "tags": []
   },
   "source": [
    "Importing librearies"
   ]
  },
  {
   "cell_type": "code",
   "execution_count": 1,
   "id": "8e5005ec",
   "metadata": {
    "execution": {
     "iopub.execute_input": "2024-01-13T10:43:45.120763Z",
     "iopub.status.busy": "2024-01-13T10:43:45.120256Z",
     "iopub.status.idle": "2024-01-13T10:43:46.816721Z",
     "shell.execute_reply": "2024-01-13T10:43:46.815507Z"
    },
    "papermill": {
     "duration": 1.714904,
     "end_time": "2024-01-13T10:43:46.819237",
     "exception": false,
     "start_time": "2024-01-13T10:43:45.104333",
     "status": "completed"
    },
    "tags": []
   },
   "outputs": [],
   "source": [
    "import pandas as pd\n",
    "import numpy as np\n",
    "import seaborn as sns\n",
    "import matplotlib.pyplot as plt\n",
    "%matplotlib inline\n",
    "import warnings \n",
    "warnings.filterwarnings('ignore')\n"
   ]
  },
  {
   "cell_type": "markdown",
   "id": "17310ae1",
   "metadata": {
    "papermill": {
     "duration": 0.013473,
     "end_time": "2024-01-13T10:43:46.845804",
     "exception": false,
     "start_time": "2024-01-13T10:43:46.832331",
     "status": "completed"
    },
    "tags": []
   },
   "source": [
    "# Abstract"
   ]
  },
  {
   "cell_type": "markdown",
   "id": "7d97c12d",
   "metadata": {
    "papermill": {
     "duration": 0.013169,
     "end_time": "2024-01-13T10:43:46.871949",
     "exception": false,
     "start_time": "2024-01-13T10:43:46.858780",
     "status": "completed"
    },
    "tags": []
   },
   "source": [
    "Netflix is one of the most popular media and video streaming platforms. They have over 8000 movies or tv shows available on their platform, as of mid-2021, they have over 200M Subscribers globally. This tabular dataset consists of listings of all the movies and tv shows available on Netflix, along with details such as - cast, directors, ratings, release year, duration, etc"
   ]
  },
  {
   "cell_type": "markdown",
   "id": "b9360acd",
   "metadata": {
    "papermill": {
     "duration": 0.012427,
     "end_time": "2024-01-13T10:43:46.897055",
     "exception": false,
     "start_time": "2024-01-13T10:43:46.884628",
     "status": "completed"
    },
    "tags": []
   },
   "source": [
    "Data Source"
   ]
  },
  {
   "cell_type": "markdown",
   "id": "25e05feb",
   "metadata": {
    "papermill": {
     "duration": 0.013044,
     "end_time": "2024-01-13T10:43:46.923945",
     "exception": false,
     "start_time": "2024-01-13T10:43:46.910901",
     "status": "completed"
    },
    "tags": []
   },
   "source": [
    "This data contains 8807 rows and 12 columns"
   ]
  },
  {
   "cell_type": "markdown",
   "id": "aa3bab7f",
   "metadata": {
    "papermill": {
     "duration": 0.013412,
     "end_time": "2024-01-13T10:43:46.950867",
     "exception": false,
     "start_time": "2024-01-13T10:43:46.937455",
     "status": "completed"
    },
    "tags": []
   },
   "source": [
    "Loading the dataset"
   ]
  },
  {
   "cell_type": "code",
   "execution_count": 2,
   "id": "a4dab5f1",
   "metadata": {
    "execution": {
     "iopub.execute_input": "2024-01-13T10:43:46.981565Z",
     "iopub.status.busy": "2024-01-13T10:43:46.981038Z",
     "iopub.status.idle": "2024-01-13T10:43:47.136301Z",
     "shell.execute_reply": "2024-01-13T10:43:47.133976Z"
    },
    "papermill": {
     "duration": 0.173869,
     "end_time": "2024-01-13T10:43:47.139452",
     "exception": false,
     "start_time": "2024-01-13T10:43:46.965583",
     "status": "completed"
    },
    "tags": []
   },
   "outputs": [
    {
     "data": {
      "text/html": [
       "<div>\n",
       "<style scoped>\n",
       "    .dataframe tbody tr th:only-of-type {\n",
       "        vertical-align: middle;\n",
       "    }\n",
       "\n",
       "    .dataframe tbody tr th {\n",
       "        vertical-align: top;\n",
       "    }\n",
       "\n",
       "    .dataframe thead th {\n",
       "        text-align: right;\n",
       "    }\n",
       "</style>\n",
       "<table border=\"1\" class=\"dataframe\">\n",
       "  <thead>\n",
       "    <tr style=\"text-align: right;\">\n",
       "      <th></th>\n",
       "      <th>show_id</th>\n",
       "      <th>type</th>\n",
       "      <th>title</th>\n",
       "      <th>director</th>\n",
       "      <th>cast</th>\n",
       "      <th>country</th>\n",
       "      <th>date_added</th>\n",
       "      <th>release_year</th>\n",
       "      <th>rating</th>\n",
       "      <th>duration</th>\n",
       "      <th>listed_in</th>\n",
       "      <th>description</th>\n",
       "    </tr>\n",
       "  </thead>\n",
       "  <tbody>\n",
       "    <tr>\n",
       "      <th>0</th>\n",
       "      <td>s1</td>\n",
       "      <td>Movie</td>\n",
       "      <td>Dick Johnson Is Dead</td>\n",
       "      <td>Kirsten Johnson</td>\n",
       "      <td>NaN</td>\n",
       "      <td>United States</td>\n",
       "      <td>September 25, 2021</td>\n",
       "      <td>2020</td>\n",
       "      <td>PG-13</td>\n",
       "      <td>90 min</td>\n",
       "      <td>Documentaries</td>\n",
       "      <td>As her father nears the end of his life, filmm...</td>\n",
       "    </tr>\n",
       "    <tr>\n",
       "      <th>1</th>\n",
       "      <td>s2</td>\n",
       "      <td>TV Show</td>\n",
       "      <td>Blood &amp; Water</td>\n",
       "      <td>NaN</td>\n",
       "      <td>Ama Qamata, Khosi Ngema, Gail Mabalane, Thaban...</td>\n",
       "      <td>South Africa</td>\n",
       "      <td>September 24, 2021</td>\n",
       "      <td>2021</td>\n",
       "      <td>TV-MA</td>\n",
       "      <td>2 Seasons</td>\n",
       "      <td>International TV Shows, TV Dramas, TV Mysteries</td>\n",
       "      <td>After crossing paths at a party, a Cape Town t...</td>\n",
       "    </tr>\n",
       "    <tr>\n",
       "      <th>2</th>\n",
       "      <td>s3</td>\n",
       "      <td>TV Show</td>\n",
       "      <td>Ganglands</td>\n",
       "      <td>Julien Leclercq</td>\n",
       "      <td>Sami Bouajila, Tracy Gotoas, Samuel Jouy, Nabi...</td>\n",
       "      <td>NaN</td>\n",
       "      <td>September 24, 2021</td>\n",
       "      <td>2021</td>\n",
       "      <td>TV-MA</td>\n",
       "      <td>1 Season</td>\n",
       "      <td>Crime TV Shows, International TV Shows, TV Act...</td>\n",
       "      <td>To protect his family from a powerful drug lor...</td>\n",
       "    </tr>\n",
       "    <tr>\n",
       "      <th>3</th>\n",
       "      <td>s4</td>\n",
       "      <td>TV Show</td>\n",
       "      <td>Jailbirds New Orleans</td>\n",
       "      <td>NaN</td>\n",
       "      <td>NaN</td>\n",
       "      <td>NaN</td>\n",
       "      <td>September 24, 2021</td>\n",
       "      <td>2021</td>\n",
       "      <td>TV-MA</td>\n",
       "      <td>1 Season</td>\n",
       "      <td>Docuseries, Reality TV</td>\n",
       "      <td>Feuds, flirtations and toilet talk go down amo...</td>\n",
       "    </tr>\n",
       "    <tr>\n",
       "      <th>4</th>\n",
       "      <td>s5</td>\n",
       "      <td>TV Show</td>\n",
       "      <td>Kota Factory</td>\n",
       "      <td>NaN</td>\n",
       "      <td>Mayur More, Jitendra Kumar, Ranjan Raj, Alam K...</td>\n",
       "      <td>India</td>\n",
       "      <td>September 24, 2021</td>\n",
       "      <td>2021</td>\n",
       "      <td>TV-MA</td>\n",
       "      <td>2 Seasons</td>\n",
       "      <td>International TV Shows, Romantic TV Shows, TV ...</td>\n",
       "      <td>In a city of coaching centers known to train I...</td>\n",
       "    </tr>\n",
       "  </tbody>\n",
       "</table>\n",
       "</div>"
      ],
      "text/plain": [
       "  show_id     type                  title         director  \\\n",
       "0      s1    Movie   Dick Johnson Is Dead  Kirsten Johnson   \n",
       "1      s2  TV Show          Blood & Water              NaN   \n",
       "2      s3  TV Show              Ganglands  Julien Leclercq   \n",
       "3      s4  TV Show  Jailbirds New Orleans              NaN   \n",
       "4      s5  TV Show           Kota Factory              NaN   \n",
       "\n",
       "                                                cast        country  \\\n",
       "0                                                NaN  United States   \n",
       "1  Ama Qamata, Khosi Ngema, Gail Mabalane, Thaban...   South Africa   \n",
       "2  Sami Bouajila, Tracy Gotoas, Samuel Jouy, Nabi...            NaN   \n",
       "3                                                NaN            NaN   \n",
       "4  Mayur More, Jitendra Kumar, Ranjan Raj, Alam K...          India   \n",
       "\n",
       "           date_added  release_year rating   duration  \\\n",
       "0  September 25, 2021          2020  PG-13     90 min   \n",
       "1  September 24, 2021          2021  TV-MA  2 Seasons   \n",
       "2  September 24, 2021          2021  TV-MA   1 Season   \n",
       "3  September 24, 2021          2021  TV-MA   1 Season   \n",
       "4  September 24, 2021          2021  TV-MA  2 Seasons   \n",
       "\n",
       "                                           listed_in  \\\n",
       "0                                      Documentaries   \n",
       "1    International TV Shows, TV Dramas, TV Mysteries   \n",
       "2  Crime TV Shows, International TV Shows, TV Act...   \n",
       "3                             Docuseries, Reality TV   \n",
       "4  International TV Shows, Romantic TV Shows, TV ...   \n",
       "\n",
       "                                         description  \n",
       "0  As her father nears the end of his life, filmm...  \n",
       "1  After crossing paths at a party, a Cape Town t...  \n",
       "2  To protect his family from a powerful drug lor...  \n",
       "3  Feuds, flirtations and toilet talk go down amo...  \n",
       "4  In a city of coaching centers known to train I...  "
      ]
     },
     "execution_count": 2,
     "metadata": {},
     "output_type": "execute_result"
    }
   ],
   "source": [
    "df=pd.read_csv('/kaggle/input/netflix-shows/netflix_titles.csv')\n",
    "df.head()"
   ]
  },
  {
   "cell_type": "markdown",
   "id": "cdd5acef",
   "metadata": {
    "papermill": {
     "duration": 0.014156,
     "end_time": "2024-01-13T10:43:47.168076",
     "exception": false,
     "start_time": "2024-01-13T10:43:47.153920",
     "status": "completed"
    },
    "tags": []
   },
   "source": [
    " # Understadning, Wrangling and Cleaning Data\n"
   ]
  },
  {
   "cell_type": "code",
   "execution_count": 3,
   "id": "b76ba01b",
   "metadata": {
    "execution": {
     "iopub.execute_input": "2024-01-13T10:43:47.283175Z",
     "iopub.status.busy": "2024-01-13T10:43:47.282293Z",
     "iopub.status.idle": "2024-01-13T10:43:47.412811Z",
     "shell.execute_reply": "2024-01-13T10:43:47.411691Z"
    },
    "papermill": {
     "duration": 0.148033,
     "end_time": "2024-01-13T10:43:47.415189",
     "exception": false,
     "start_time": "2024-01-13T10:43:47.267156",
     "status": "completed"
    },
    "tags": []
   },
   "outputs": [
    {
     "name": "stdout",
     "output_type": "stream",
     "text": [
      "<class 'pandas.core.frame.DataFrame'>\n",
      "RangeIndex: 8807 entries, 0 to 8806\n",
      "Data columns (total 12 columns):\n",
      " #   Column        Non-Null Count  Dtype \n",
      "---  ------        --------------  ----- \n",
      " 0   show_id       8807 non-null   object\n",
      " 1   type          8807 non-null   object\n",
      " 2   title         8807 non-null   object\n",
      " 3   director      6173 non-null   object\n",
      " 4   cast          7982 non-null   object\n",
      " 5   country       7976 non-null   object\n",
      " 6   date_added    8797 non-null   object\n",
      " 7   release_year  8807 non-null   int64 \n",
      " 8   rating        8803 non-null   object\n",
      " 9   duration      8804 non-null   object\n",
      " 10  listed_in     8807 non-null   object\n",
      " 11  description   8807 non-null   object\n",
      "dtypes: int64(1), object(11)\n",
      "memory usage: 825.8+ KB\n"
     ]
    }
   ],
   "source": [
    "df.info()"
   ]
  },
  {
   "cell_type": "markdown",
   "id": "8b69e3ee",
   "metadata": {
    "papermill": {
     "duration": 0.014295,
     "end_time": "2024-01-13T10:43:47.443486",
     "exception": false,
     "start_time": "2024-01-13T10:43:47.429191",
     "status": "completed"
    },
    "tags": []
   },
   "source": [
    "First we will check if this dataset have any duplicate values"
   ]
  },
  {
   "cell_type": "code",
   "execution_count": 4,
   "id": "666d9669",
   "metadata": {
    "execution": {
     "iopub.execute_input": "2024-01-13T10:43:47.474830Z",
     "iopub.status.busy": "2024-01-13T10:43:47.474139Z",
     "iopub.status.idle": "2024-01-13T10:43:47.498458Z",
     "shell.execute_reply": "2024-01-13T10:43:47.497506Z"
    },
    "papermill": {
     "duration": 0.04229,
     "end_time": "2024-01-13T10:43:47.500534",
     "exception": false,
     "start_time": "2024-01-13T10:43:47.458244",
     "status": "completed"
    },
    "tags": []
   },
   "outputs": [
    {
     "data": {
      "text/plain": [
       "0"
      ]
     },
     "execution_count": 4,
     "metadata": {},
     "output_type": "execute_result"
    }
   ],
   "source": [
    "df.duplicated().sum()"
   ]
  },
  {
   "cell_type": "markdown",
   "id": "54ba8d79",
   "metadata": {
    "papermill": {
     "duration": 0.014899,
     "end_time": "2024-01-13T10:43:47.530914",
     "exception": false,
     "start_time": "2024-01-13T10:43:47.516015",
     "status": "completed"
    },
    "tags": []
   },
   "source": [
    "this dataset has no duplicate values\n"
   ]
  },
  {
   "cell_type": "markdown",
   "id": "bf4a6956",
   "metadata": {
    "papermill": {
     "duration": 0.014908,
     "end_time": "2024-01-13T10:43:47.561024",
     "exception": false,
     "start_time": "2024-01-13T10:43:47.546116",
     "status": "completed"
    },
    "tags": []
   },
   "source": [
    "First we examine null values before continuing with analysis"
   ]
  },
  {
   "cell_type": "code",
   "execution_count": 5,
   "id": "31e43954",
   "metadata": {
    "execution": {
     "iopub.execute_input": "2024-01-13T10:43:47.591521Z",
     "iopub.status.busy": "2024-01-13T10:43:47.591133Z",
     "iopub.status.idle": "2024-01-13T10:43:47.612107Z",
     "shell.execute_reply": "2024-01-13T10:43:47.610771Z"
    },
    "papermill": {
     "duration": 0.039364,
     "end_time": "2024-01-13T10:43:47.614743",
     "exception": false,
     "start_time": "2024-01-13T10:43:47.575379",
     "status": "completed"
    },
    "tags": []
   },
   "outputs": [
    {
     "data": {
      "text/html": [
       "<div>\n",
       "<style scoped>\n",
       "    .dataframe tbody tr th:only-of-type {\n",
       "        vertical-align: middle;\n",
       "    }\n",
       "\n",
       "    .dataframe tbody tr th {\n",
       "        vertical-align: top;\n",
       "    }\n",
       "\n",
       "    .dataframe thead th {\n",
       "        text-align: right;\n",
       "    }\n",
       "</style>\n",
       "<table border=\"1\" class=\"dataframe\">\n",
       "  <thead>\n",
       "    <tr style=\"text-align: right;\">\n",
       "      <th></th>\n",
       "      <th>Null Values</th>\n",
       "      <th>Percentage of Null Values</th>\n",
       "    </tr>\n",
       "  </thead>\n",
       "  <tbody>\n",
       "    <tr>\n",
       "      <th>show_id</th>\n",
       "      <td>0</td>\n",
       "      <td>0.000000</td>\n",
       "    </tr>\n",
       "    <tr>\n",
       "      <th>type</th>\n",
       "      <td>0</td>\n",
       "      <td>0.000000</td>\n",
       "    </tr>\n",
       "    <tr>\n",
       "      <th>title</th>\n",
       "      <td>0</td>\n",
       "      <td>0.000000</td>\n",
       "    </tr>\n",
       "    <tr>\n",
       "      <th>director</th>\n",
       "      <td>2634</td>\n",
       "      <td>29.908028</td>\n",
       "    </tr>\n",
       "    <tr>\n",
       "      <th>cast</th>\n",
       "      <td>825</td>\n",
       "      <td>9.367549</td>\n",
       "    </tr>\n",
       "    <tr>\n",
       "      <th>country</th>\n",
       "      <td>831</td>\n",
       "      <td>9.435676</td>\n",
       "    </tr>\n",
       "    <tr>\n",
       "      <th>date_added</th>\n",
       "      <td>10</td>\n",
       "      <td>0.113546</td>\n",
       "    </tr>\n",
       "    <tr>\n",
       "      <th>release_year</th>\n",
       "      <td>0</td>\n",
       "      <td>0.000000</td>\n",
       "    </tr>\n",
       "    <tr>\n",
       "      <th>rating</th>\n",
       "      <td>4</td>\n",
       "      <td>0.045418</td>\n",
       "    </tr>\n",
       "    <tr>\n",
       "      <th>duration</th>\n",
       "      <td>3</td>\n",
       "      <td>0.034064</td>\n",
       "    </tr>\n",
       "    <tr>\n",
       "      <th>listed_in</th>\n",
       "      <td>0</td>\n",
       "      <td>0.000000</td>\n",
       "    </tr>\n",
       "    <tr>\n",
       "      <th>description</th>\n",
       "      <td>0</td>\n",
       "      <td>0.000000</td>\n",
       "    </tr>\n",
       "  </tbody>\n",
       "</table>\n",
       "</div>"
      ],
      "text/plain": [
       "              Null Values  Percentage of Null Values\n",
       "show_id                 0                   0.000000\n",
       "type                    0                   0.000000\n",
       "title                   0                   0.000000\n",
       "director             2634                  29.908028\n",
       "cast                  825                   9.367549\n",
       "country               831                   9.435676\n",
       "date_added             10                   0.113546\n",
       "release_year            0                   0.000000\n",
       "rating                  4                   0.045418\n",
       "duration                3                   0.034064\n",
       "listed_in               0                   0.000000\n",
       "description             0                   0.000000"
      ]
     },
     "execution_count": 5,
     "metadata": {},
     "output_type": "execute_result"
    }
   ],
   "source": [
    "#checking for nullvalues\n",
    "null=pd.DataFrame({'Null Values':df.isna().sum(),'Percentage of Null Values':((df.isna().sum())/(df.shape[0])*(100))})\n",
    "null"
   ]
  },
  {
   "cell_type": "markdown",
   "id": "99025b3b",
   "metadata": {
    "papermill": {
     "duration": 0.015547,
     "end_time": "2024-01-13T10:43:47.645717",
     "exception": false,
     "start_time": "2024-01-13T10:43:47.630170",
     "status": "completed"
    },
    "tags": []
   },
   "source": [
    "As we can see that directors columns has about 30% and cast have around 9.36% null values we can replace it by \"NA\"\n",
    "but Country has around 9.43% rating has 4 and duration has 3 null values which are important for analysis purpose \n",
    "so we will create a new data set having no null values in this columns "
   ]
  },
  {
   "cell_type": "code",
   "execution_count": 6,
   "id": "229c4a4e",
   "metadata": {
    "execution": {
     "iopub.execute_input": "2024-01-13T10:43:47.677975Z",
     "iopub.status.busy": "2024-01-13T10:43:47.677556Z",
     "iopub.status.idle": "2024-01-13T10:43:47.690509Z",
     "shell.execute_reply": "2024-01-13T10:43:47.689466Z"
    },
    "papermill": {
     "duration": 0.032367,
     "end_time": "2024-01-13T10:43:47.693058",
     "exception": false,
     "start_time": "2024-01-13T10:43:47.660691",
     "status": "completed"
    },
    "tags": []
   },
   "outputs": [],
   "source": [
    "#replacing all NaN values in 'director' and 'cast' with NA\n",
    "df.fillna({'cast':'NA'}, inplace=True)\n",
    "df.fillna({'director':'Na'},inplace=True)\n",
    "df.fillna({'country':'-'},inplace=True)\n",
    "df.fillna({'rating':'-'},inplace=True)\n",
    "df.fillna({'duration':'-'},inplace=True)\n",
    "\n",
    "\n"
   ]
  },
  {
   "cell_type": "code",
   "execution_count": 7,
   "id": "1e44b4b4",
   "metadata": {
    "execution": {
     "iopub.execute_input": "2024-01-13T10:43:47.724437Z",
     "iopub.status.busy": "2024-01-13T10:43:47.724046Z",
     "iopub.status.idle": "2024-01-13T10:43:47.739633Z",
     "shell.execute_reply": "2024-01-13T10:43:47.738440Z"
    },
    "papermill": {
     "duration": 0.033436,
     "end_time": "2024-01-13T10:43:47.741600",
     "exception": false,
     "start_time": "2024-01-13T10:43:47.708164",
     "status": "completed"
    },
    "tags": []
   },
   "outputs": [
    {
     "name": "stdout",
     "output_type": "stream",
     "text": [
      "<class 'pandas.core.frame.DataFrame'>\n",
      "RangeIndex: 8807 entries, 0 to 8806\n",
      "Data columns (total 12 columns):\n",
      " #   Column        Non-Null Count  Dtype \n",
      "---  ------        --------------  ----- \n",
      " 0   show_id       8807 non-null   object\n",
      " 1   type          8807 non-null   object\n",
      " 2   title         8807 non-null   object\n",
      " 3   director      8807 non-null   object\n",
      " 4   cast          8807 non-null   object\n",
      " 5   country       8807 non-null   object\n",
      " 6   date_added    8797 non-null   object\n",
      " 7   release_year  8807 non-null   int64 \n",
      " 8   rating        8807 non-null   object\n",
      " 9   duration      8807 non-null   object\n",
      " 10  listed_in     8807 non-null   object\n",
      " 11  description   8807 non-null   object\n",
      "dtypes: int64(1), object(11)\n",
      "memory usage: 825.8+ KB\n"
     ]
    }
   ],
   "source": [
    "df.info()"
   ]
  },
  {
   "cell_type": "code",
   "execution_count": null,
   "id": "7c02e8e1",
   "metadata": {
    "papermill": {
     "duration": 0.014425,
     "end_time": "2024-01-13T10:43:47.772061",
     "exception": false,
     "start_time": "2024-01-13T10:43:47.757636",
     "status": "completed"
    },
    "tags": []
   },
   "outputs": [],
   "source": []
  },
  {
   "cell_type": "code",
   "execution_count": 8,
   "id": "def222e0",
   "metadata": {
    "execution": {
     "iopub.execute_input": "2024-01-13T10:43:47.805298Z",
     "iopub.status.busy": "2024-01-13T10:43:47.804814Z",
     "iopub.status.idle": "2024-01-13T10:43:47.834182Z",
     "shell.execute_reply": "2024-01-13T10:43:47.832735Z"
    },
    "papermill": {
     "duration": 0.048654,
     "end_time": "2024-01-13T10:43:47.836198",
     "exception": false,
     "start_time": "2024-01-13T10:43:47.787544",
     "status": "completed"
    },
    "tags": []
   },
   "outputs": [
    {
     "data": {
      "text/html": [
       "<div>\n",
       "<style scoped>\n",
       "    .dataframe tbody tr th:only-of-type {\n",
       "        vertical-align: middle;\n",
       "    }\n",
       "\n",
       "    .dataframe tbody tr th {\n",
       "        vertical-align: top;\n",
       "    }\n",
       "\n",
       "    .dataframe thead th {\n",
       "        text-align: right;\n",
       "    }\n",
       "</style>\n",
       "<table border=\"1\" class=\"dataframe\">\n",
       "  <thead>\n",
       "    <tr style=\"text-align: right;\">\n",
       "      <th></th>\n",
       "      <th>show_id</th>\n",
       "      <th>type</th>\n",
       "      <th>title</th>\n",
       "      <th>director</th>\n",
       "      <th>cast</th>\n",
       "      <th>country</th>\n",
       "      <th>date_added</th>\n",
       "      <th>release_year</th>\n",
       "      <th>rating</th>\n",
       "      <th>duration</th>\n",
       "      <th>listed_in</th>\n",
       "      <th>description</th>\n",
       "    </tr>\n",
       "  </thead>\n",
       "  <tbody>\n",
       "    <tr>\n",
       "      <th>2</th>\n",
       "      <td>s3</td>\n",
       "      <td>TV Show</td>\n",
       "      <td>Ganglands</td>\n",
       "      <td>Julien Leclercq</td>\n",
       "      <td>Sami Bouajila, Tracy Gotoas, Samuel Jouy, Nabi...</td>\n",
       "      <td>-</td>\n",
       "      <td>September 24, 2021</td>\n",
       "      <td>2021</td>\n",
       "      <td>TV-MA</td>\n",
       "      <td>1 Season</td>\n",
       "      <td>Crime TV Shows, International TV Shows, TV Act...</td>\n",
       "      <td>To protect his family from a powerful drug lor...</td>\n",
       "    </tr>\n",
       "    <tr>\n",
       "      <th>3</th>\n",
       "      <td>s4</td>\n",
       "      <td>TV Show</td>\n",
       "      <td>Jailbirds New Orleans</td>\n",
       "      <td>Na</td>\n",
       "      <td>NA</td>\n",
       "      <td>-</td>\n",
       "      <td>September 24, 2021</td>\n",
       "      <td>2021</td>\n",
       "      <td>TV-MA</td>\n",
       "      <td>1 Season</td>\n",
       "      <td>Docuseries, Reality TV</td>\n",
       "      <td>Feuds, flirtations and toilet talk go down amo...</td>\n",
       "    </tr>\n",
       "    <tr>\n",
       "      <th>5</th>\n",
       "      <td>s6</td>\n",
       "      <td>TV Show</td>\n",
       "      <td>Midnight Mass</td>\n",
       "      <td>Mike Flanagan</td>\n",
       "      <td>Kate Siegel, Zach Gilford, Hamish Linklater, H...</td>\n",
       "      <td>-</td>\n",
       "      <td>September 24, 2021</td>\n",
       "      <td>2021</td>\n",
       "      <td>TV-MA</td>\n",
       "      <td>1 Season</td>\n",
       "      <td>TV Dramas, TV Horror, TV Mysteries</td>\n",
       "      <td>The arrival of a charismatic young priest brin...</td>\n",
       "    </tr>\n",
       "    <tr>\n",
       "      <th>6</th>\n",
       "      <td>s7</td>\n",
       "      <td>Movie</td>\n",
       "      <td>My Little Pony: A New Generation</td>\n",
       "      <td>Robert Cullen, José Luis Ucha</td>\n",
       "      <td>Vanessa Hudgens, Kimiko Glenn, James Marsden, ...</td>\n",
       "      <td>-</td>\n",
       "      <td>September 24, 2021</td>\n",
       "      <td>2021</td>\n",
       "      <td>PG</td>\n",
       "      <td>91 min</td>\n",
       "      <td>Children &amp; Family Movies</td>\n",
       "      <td>Equestria's divided. But a bright-eyed hero be...</td>\n",
       "    </tr>\n",
       "    <tr>\n",
       "      <th>10</th>\n",
       "      <td>s11</td>\n",
       "      <td>TV Show</td>\n",
       "      <td>Vendetta: Truth, Lies and The Mafia</td>\n",
       "      <td>Na</td>\n",
       "      <td>NA</td>\n",
       "      <td>-</td>\n",
       "      <td>September 24, 2021</td>\n",
       "      <td>2021</td>\n",
       "      <td>TV-MA</td>\n",
       "      <td>1 Season</td>\n",
       "      <td>Crime TV Shows, Docuseries, International TV S...</td>\n",
       "      <td>Sicily boasts a bold \"Anti-Mafia\" coalition. B...</td>\n",
       "    </tr>\n",
       "    <tr>\n",
       "      <th>...</th>\n",
       "      <td>...</td>\n",
       "      <td>...</td>\n",
       "      <td>...</td>\n",
       "      <td>...</td>\n",
       "      <td>...</td>\n",
       "      <td>...</td>\n",
       "      <td>...</td>\n",
       "      <td>...</td>\n",
       "      <td>...</td>\n",
       "      <td>...</td>\n",
       "      <td>...</td>\n",
       "      <td>...</td>\n",
       "    </tr>\n",
       "    <tr>\n",
       "      <th>8718</th>\n",
       "      <td>s8719</td>\n",
       "      <td>Movie</td>\n",
       "      <td>Westside vs. the World</td>\n",
       "      <td>Michael Fahey</td>\n",
       "      <td>Ron Perlman, Louie Simmons</td>\n",
       "      <td>-</td>\n",
       "      <td>August 9, 2019</td>\n",
       "      <td>2019</td>\n",
       "      <td>TV-MA</td>\n",
       "      <td>96 min</td>\n",
       "      <td>Documentaries, Sports Movies</td>\n",
       "      <td>A look into the journey of influential strengt...</td>\n",
       "    </tr>\n",
       "    <tr>\n",
       "      <th>8759</th>\n",
       "      <td>s8760</td>\n",
       "      <td>Movie</td>\n",
       "      <td>World's Weirdest Homes</td>\n",
       "      <td>Storm Theunissen</td>\n",
       "      <td>Charlie Luxton</td>\n",
       "      <td>-</td>\n",
       "      <td>February 1, 2019</td>\n",
       "      <td>2015</td>\n",
       "      <td>TV-PG</td>\n",
       "      <td>49 min</td>\n",
       "      <td>Movies</td>\n",
       "      <td>From a bubble-shaped palace to an island built...</td>\n",
       "    </tr>\n",
       "    <tr>\n",
       "      <th>8783</th>\n",
       "      <td>s8784</td>\n",
       "      <td>TV Show</td>\n",
       "      <td>Yoko</td>\n",
       "      <td>Na</td>\n",
       "      <td>Eileen Stevens, Alyson Leigh Rosenfeld, Sarah ...</td>\n",
       "      <td>-</td>\n",
       "      <td>June 23, 2018</td>\n",
       "      <td>2016</td>\n",
       "      <td>TV-Y</td>\n",
       "      <td>1 Season</td>\n",
       "      <td>Kids' TV</td>\n",
       "      <td>Friends Mai, Oto and Vik's games at the park b...</td>\n",
       "    </tr>\n",
       "    <tr>\n",
       "      <th>8785</th>\n",
       "      <td>s8786</td>\n",
       "      <td>TV Show</td>\n",
       "      <td>YOM</td>\n",
       "      <td>Na</td>\n",
       "      <td>Sairaj, Devyani Dagaonkar, Ketan Singh, Mayur ...</td>\n",
       "      <td>-</td>\n",
       "      <td>June 7, 2018</td>\n",
       "      <td>2016</td>\n",
       "      <td>TV-Y7</td>\n",
       "      <td>1 Season</td>\n",
       "      <td>Kids' TV</td>\n",
       "      <td>With the mind of a human being, and the body o...</td>\n",
       "    </tr>\n",
       "    <tr>\n",
       "      <th>8803</th>\n",
       "      <td>s8804</td>\n",
       "      <td>TV Show</td>\n",
       "      <td>Zombie Dumb</td>\n",
       "      <td>Na</td>\n",
       "      <td>NA</td>\n",
       "      <td>-</td>\n",
       "      <td>July 1, 2019</td>\n",
       "      <td>2018</td>\n",
       "      <td>TV-Y7</td>\n",
       "      <td>2 Seasons</td>\n",
       "      <td>Kids' TV, Korean TV Shows, TV Comedies</td>\n",
       "      <td>While living alone in a spooky town, a young g...</td>\n",
       "    </tr>\n",
       "  </tbody>\n",
       "</table>\n",
       "<p>837 rows × 12 columns</p>\n",
       "</div>"
      ],
      "text/plain": [
       "     show_id     type                                title  \\\n",
       "2         s3  TV Show                            Ganglands   \n",
       "3         s4  TV Show                Jailbirds New Orleans   \n",
       "5         s6  TV Show                        Midnight Mass   \n",
       "6         s7    Movie     My Little Pony: A New Generation   \n",
       "10       s11  TV Show  Vendetta: Truth, Lies and The Mafia   \n",
       "...      ...      ...                                  ...   \n",
       "8718   s8719    Movie               Westside vs. the World   \n",
       "8759   s8760    Movie               World's Weirdest Homes   \n",
       "8783   s8784  TV Show                                 Yoko   \n",
       "8785   s8786  TV Show                                  YOM   \n",
       "8803   s8804  TV Show                          Zombie Dumb   \n",
       "\n",
       "                           director  \\\n",
       "2                   Julien Leclercq   \n",
       "3                                Na   \n",
       "5                     Mike Flanagan   \n",
       "6     Robert Cullen, José Luis Ucha   \n",
       "10                               Na   \n",
       "...                             ...   \n",
       "8718                  Michael Fahey   \n",
       "8759               Storm Theunissen   \n",
       "8783                             Na   \n",
       "8785                             Na   \n",
       "8803                             Na   \n",
       "\n",
       "                                                   cast country  \\\n",
       "2     Sami Bouajila, Tracy Gotoas, Samuel Jouy, Nabi...       -   \n",
       "3                                                    NA       -   \n",
       "5     Kate Siegel, Zach Gilford, Hamish Linklater, H...       -   \n",
       "6     Vanessa Hudgens, Kimiko Glenn, James Marsden, ...       -   \n",
       "10                                                   NA       -   \n",
       "...                                                 ...     ...   \n",
       "8718                         Ron Perlman, Louie Simmons       -   \n",
       "8759                                     Charlie Luxton       -   \n",
       "8783  Eileen Stevens, Alyson Leigh Rosenfeld, Sarah ...       -   \n",
       "8785  Sairaj, Devyani Dagaonkar, Ketan Singh, Mayur ...       -   \n",
       "8803                                                 NA       -   \n",
       "\n",
       "              date_added  release_year rating   duration  \\\n",
       "2     September 24, 2021          2021  TV-MA   1 Season   \n",
       "3     September 24, 2021          2021  TV-MA   1 Season   \n",
       "5     September 24, 2021          2021  TV-MA   1 Season   \n",
       "6     September 24, 2021          2021     PG     91 min   \n",
       "10    September 24, 2021          2021  TV-MA   1 Season   \n",
       "...                  ...           ...    ...        ...   \n",
       "8718      August 9, 2019          2019  TV-MA     96 min   \n",
       "8759    February 1, 2019          2015  TV-PG     49 min   \n",
       "8783       June 23, 2018          2016   TV-Y   1 Season   \n",
       "8785        June 7, 2018          2016  TV-Y7   1 Season   \n",
       "8803        July 1, 2019          2018  TV-Y7  2 Seasons   \n",
       "\n",
       "                                              listed_in  \\\n",
       "2     Crime TV Shows, International TV Shows, TV Act...   \n",
       "3                                Docuseries, Reality TV   \n",
       "5                    TV Dramas, TV Horror, TV Mysteries   \n",
       "6                              Children & Family Movies   \n",
       "10    Crime TV Shows, Docuseries, International TV S...   \n",
       "...                                                 ...   \n",
       "8718                       Documentaries, Sports Movies   \n",
       "8759                                             Movies   \n",
       "8783                                           Kids' TV   \n",
       "8785                                           Kids' TV   \n",
       "8803             Kids' TV, Korean TV Shows, TV Comedies   \n",
       "\n",
       "                                            description  \n",
       "2     To protect his family from a powerful drug lor...  \n",
       "3     Feuds, flirtations and toilet talk go down amo...  \n",
       "5     The arrival of a charismatic young priest brin...  \n",
       "6     Equestria's divided. But a bright-eyed hero be...  \n",
       "10    Sicily boasts a bold \"Anti-Mafia\" coalition. B...  \n",
       "...                                                 ...  \n",
       "8718  A look into the journey of influential strengt...  \n",
       "8759  From a bubble-shaped palace to an island built...  \n",
       "8783  Friends Mai, Oto and Vik's games at the park b...  \n",
       "8785  With the mind of a human being, and the body o...  \n",
       "8803  While living alone in a spooky town, a young g...  \n",
       "\n",
       "[837 rows x 12 columns]"
      ]
     },
     "execution_count": 8,
     "metadata": {},
     "output_type": "execute_result"
    }
   ],
   "source": [
    "filter=(df.country=='-') | (df.rating=='-') | (df.duration=='-')\n",
    "df[filter]"
   ]
  },
  {
   "cell_type": "code",
   "execution_count": 9,
   "id": "dc8a233f",
   "metadata": {
    "execution": {
     "iopub.execute_input": "2024-01-13T10:43:47.867033Z",
     "iopub.status.busy": "2024-01-13T10:43:47.866568Z",
     "iopub.status.idle": "2024-01-13T10:43:47.874302Z",
     "shell.execute_reply": "2024-01-13T10:43:47.873346Z"
    },
    "papermill": {
     "duration": 0.025871,
     "end_time": "2024-01-13T10:43:47.876443",
     "exception": false,
     "start_time": "2024-01-13T10:43:47.850572",
     "status": "completed"
    },
    "tags": []
   },
   "outputs": [],
   "source": [
    "df1=df[~filter]"
   ]
  },
  {
   "cell_type": "code",
   "execution_count": 10,
   "id": "fa7a8527",
   "metadata": {
    "execution": {
     "iopub.execute_input": "2024-01-13T10:43:47.910218Z",
     "iopub.status.busy": "2024-01-13T10:43:47.909765Z",
     "iopub.status.idle": "2024-01-13T10:43:47.918901Z",
     "shell.execute_reply": "2024-01-13T10:43:47.917481Z"
    },
    "papermill": {
     "duration": 0.02924,
     "end_time": "2024-01-13T10:43:47.921813",
     "exception": false,
     "start_time": "2024-01-13T10:43:47.892573",
     "status": "completed"
    },
    "tags": []
   },
   "outputs": [],
   "source": [
    "netflix_shows = df1[df1['type'] == 'TV Show'].copy()"
   ]
  },
  {
   "cell_type": "code",
   "execution_count": 11,
   "id": "4368f268",
   "metadata": {
    "execution": {
     "iopub.execute_input": "2024-01-13T10:43:47.955073Z",
     "iopub.status.busy": "2024-01-13T10:43:47.954712Z",
     "iopub.status.idle": "2024-01-13T10:43:47.964516Z",
     "shell.execute_reply": "2024-01-13T10:43:47.963220Z"
    },
    "papermill": {
     "duration": 0.030159,
     "end_time": "2024-01-13T10:43:47.967482",
     "exception": false,
     "start_time": "2024-01-13T10:43:47.937323",
     "status": "completed"
    },
    "tags": []
   },
   "outputs": [],
   "source": [
    "netflix_movies = df1[df1['type'] == 'Movie'].copy()"
   ]
  },
  {
   "cell_type": "markdown",
   "id": "b3beca43",
   "metadata": {
    "papermill": {
     "duration": 0.015043,
     "end_time": "2024-01-13T10:43:47.997739",
     "exception": false,
     "start_time": "2024-01-13T10:43:47.982696",
     "status": "completed"
    },
    "tags": []
   },
   "source": [
    "df1 is dataset where all important values are not null"
   ]
  },
  {
   "cell_type": "code",
   "execution_count": 12,
   "id": "5cf9c5e4",
   "metadata": {
    "execution": {
     "iopub.execute_input": "2024-01-13T10:43:48.029458Z",
     "iopub.status.busy": "2024-01-13T10:43:48.029100Z",
     "iopub.status.idle": "2024-01-13T10:43:48.232656Z",
     "shell.execute_reply": "2024-01-13T10:43:48.231320Z"
    },
    "papermill": {
     "duration": 0.222304,
     "end_time": "2024-01-13T10:43:48.234552",
     "exception": false,
     "start_time": "2024-01-13T10:43:48.012248",
     "status": "completed"
    },
    "tags": []
   },
   "outputs": [
    {
     "data": {
      "image/png": "[encoded data removed]",
      "text/plain": [
       "<Figure size 640x480 with 1 Axes>"
      ]
     },
     "metadata": {},
     "output_type": "display_data"
    }
   ],
   "source": [
    "ax=sns.countplot(df1,x='type')\n",
    "for bars in ax.containers:\n",
    "    ax.bar_label(bars)"
   ]
  },
  {
   "cell_type": "markdown",
   "id": "c6891010",
   "metadata": {
    "papermill": {
     "duration": 0.015211,
     "end_time": "2024-01-13T10:43:48.265653",
     "exception": false,
     "start_time": "2024-01-13T10:43:48.250442",
     "status": "completed"
    },
    "tags": []
   },
   "source": [
    "# Movie analysis"
   ]
  },
  {
   "cell_type": "markdown",
   "id": "a4c9378c",
   "metadata": {
    "papermill": {
     "duration": 0.014957,
     "end_time": "2024-01-13T10:43:48.295343",
     "exception": false,
     "start_time": "2024-01-13T10:43:48.280386",
     "status": "completed"
    },
    "tags": []
   },
   "source": [
    "Which Months has the least amount of content"
   ]
  },
  {
   "cell_type": "code",
   "execution_count": 13,
   "id": "16065ad2",
   "metadata": {
    "execution": {
     "iopub.execute_input": "2024-01-13T10:43:48.328500Z",
     "iopub.status.busy": "2024-01-13T10:43:48.327375Z",
     "iopub.status.idle": "2024-01-13T10:43:48.338036Z",
     "shell.execute_reply": "2024-01-13T10:43:48.337332Z"
    },
    "papermill": {
     "duration": 0.029826,
     "end_time": "2024-01-13T10:43:48.339903",
     "exception": false,
     "start_time": "2024-01-13T10:43:48.310077",
     "status": "completed"
    },
    "tags": []
   },
   "outputs": [
    {
     "data": {
      "text/plain": [
       "date_added    0\n",
       "dtype: int64"
      ]
     },
     "execution_count": 13,
     "metadata": {},
     "output_type": "execute_result"
    }
   ],
   "source": [
    "netflix_date=netflix_movies[['date_added']].dropna()\n",
    "netflix_date.isnull().sum()"
   ]
  },
  {
   "cell_type": "code",
   "execution_count": 14,
   "id": "59dcf631",
   "metadata": {
    "execution": {
     "iopub.execute_input": "2024-01-13T10:43:48.372660Z",
     "iopub.status.busy": "2024-01-13T10:43:48.372212Z",
     "iopub.status.idle": "2024-01-13T10:43:48.385085Z",
     "shell.execute_reply": "2024-01-13T10:43:48.383682Z"
    },
    "papermill": {
     "duration": 0.031256,
     "end_time": "2024-01-13T10:43:48.387399",
     "exception": false,
     "start_time": "2024-01-13T10:43:48.356143",
     "status": "completed"
    },
    "tags": []
   },
   "outputs": [
    {
     "data": {
      "text/html": [
       "<div>\n",
       "<style scoped>\n",
       "    .dataframe tbody tr th:only-of-type {\n",
       "        vertical-align: middle;\n",
       "    }\n",
       "\n",
       "    .dataframe tbody tr th {\n",
       "        vertical-align: top;\n",
       "    }\n",
       "\n",
       "    .dataframe thead th {\n",
       "        text-align: right;\n",
       "    }\n",
       "</style>\n",
       "<table border=\"1\" class=\"dataframe\">\n",
       "  <thead>\n",
       "    <tr style=\"text-align: right;\">\n",
       "      <th></th>\n",
       "      <th>date_added</th>\n",
       "    </tr>\n",
       "  </thead>\n",
       "  <tbody>\n",
       "    <tr>\n",
       "      <th>0</th>\n",
       "      <td>September 25, 2021</td>\n",
       "    </tr>\n",
       "    <tr>\n",
       "      <th>7</th>\n",
       "      <td>September 24, 2021</td>\n",
       "    </tr>\n",
       "    <tr>\n",
       "      <th>9</th>\n",
       "      <td>September 24, 2021</td>\n",
       "    </tr>\n",
       "    <tr>\n",
       "      <th>12</th>\n",
       "      <td>September 23, 2021</td>\n",
       "    </tr>\n",
       "    <tr>\n",
       "      <th>24</th>\n",
       "      <td>September 21, 2021</td>\n",
       "    </tr>\n",
       "    <tr>\n",
       "      <th>...</th>\n",
       "      <td>...</td>\n",
       "    </tr>\n",
       "    <tr>\n",
       "      <th>8801</th>\n",
       "      <td>March 9, 2016</td>\n",
       "    </tr>\n",
       "    <tr>\n",
       "      <th>8802</th>\n",
       "      <td>November 20, 2019</td>\n",
       "    </tr>\n",
       "    <tr>\n",
       "      <th>8804</th>\n",
       "      <td>November 1, 2019</td>\n",
       "    </tr>\n",
       "    <tr>\n",
       "      <th>8805</th>\n",
       "      <td>January 11, 2020</td>\n",
       "    </tr>\n",
       "    <tr>\n",
       "      <th>8806</th>\n",
       "      <td>March 2, 2019</td>\n",
       "    </tr>\n",
       "  </tbody>\n",
       "</table>\n",
       "<p>5687 rows × 1 columns</p>\n",
       "</div>"
      ],
      "text/plain": [
       "              date_added\n",
       "0     September 25, 2021\n",
       "7     September 24, 2021\n",
       "9     September 24, 2021\n",
       "12    September 23, 2021\n",
       "24    September 21, 2021\n",
       "...                  ...\n",
       "8801       March 9, 2016\n",
       "8802   November 20, 2019\n",
       "8804    November 1, 2019\n",
       "8805    January 11, 2020\n",
       "8806       March 2, 2019\n",
       "\n",
       "[5687 rows x 1 columns]"
      ]
     },
     "execution_count": 14,
     "metadata": {},
     "output_type": "execute_result"
    }
   ],
   "source": [
    "netflix_date"
   ]
  },
  {
   "cell_type": "code",
   "execution_count": 15,
   "id": "9fce91ce",
   "metadata": {
    "execution": {
     "iopub.execute_input": "2024-01-13T10:43:48.421299Z",
     "iopub.status.busy": "2024-01-13T10:43:48.420700Z",
     "iopub.status.idle": "2024-01-13T10:43:48.440210Z",
     "shell.execute_reply": "2024-01-13T10:43:48.438449Z"
    },
    "papermill": {
     "duration": 0.039374,
     "end_time": "2024-01-13T10:43:48.442931",
     "exception": false,
     "start_time": "2024-01-13T10:43:48.403557",
     "status": "completed"
    },
    "tags": []
   },
   "outputs": [
    {
     "data": {
      "text/html": [
       "<div>\n",
       "<style scoped>\n",
       "    .dataframe tbody tr th:only-of-type {\n",
       "        vertical-align: middle;\n",
       "    }\n",
       "\n",
       "    .dataframe tbody tr th {\n",
       "        vertical-align: top;\n",
       "    }\n",
       "\n",
       "    .dataframe thead th {\n",
       "        text-align: right;\n",
       "    }\n",
       "</style>\n",
       "<table border=\"1\" class=\"dataframe\">\n",
       "  <thead>\n",
       "    <tr style=\"text-align: right;\">\n",
       "      <th></th>\n",
       "      <th>date_added</th>\n",
       "      <th>Year</th>\n",
       "      <th>Month</th>\n",
       "    </tr>\n",
       "  </thead>\n",
       "  <tbody>\n",
       "    <tr>\n",
       "      <th>0</th>\n",
       "      <td>September 25, 2021</td>\n",
       "      <td>2021</td>\n",
       "      <td>September</td>\n",
       "    </tr>\n",
       "    <tr>\n",
       "      <th>7</th>\n",
       "      <td>September 24, 2021</td>\n",
       "      <td>2021</td>\n",
       "      <td>September</td>\n",
       "    </tr>\n",
       "    <tr>\n",
       "      <th>9</th>\n",
       "      <td>September 24, 2021</td>\n",
       "      <td>2021</td>\n",
       "      <td>September</td>\n",
       "    </tr>\n",
       "    <tr>\n",
       "      <th>12</th>\n",
       "      <td>September 23, 2021</td>\n",
       "      <td>2021</td>\n",
       "      <td>September</td>\n",
       "    </tr>\n",
       "    <tr>\n",
       "      <th>24</th>\n",
       "      <td>September 21, 2021</td>\n",
       "      <td>2021</td>\n",
       "      <td>September</td>\n",
       "    </tr>\n",
       "    <tr>\n",
       "      <th>...</th>\n",
       "      <td>...</td>\n",
       "      <td>...</td>\n",
       "      <td>...</td>\n",
       "    </tr>\n",
       "    <tr>\n",
       "      <th>8801</th>\n",
       "      <td>March 9, 2016</td>\n",
       "      <td>2016</td>\n",
       "      <td>March</td>\n",
       "    </tr>\n",
       "    <tr>\n",
       "      <th>8802</th>\n",
       "      <td>November 20, 2019</td>\n",
       "      <td>2019</td>\n",
       "      <td>November</td>\n",
       "    </tr>\n",
       "    <tr>\n",
       "      <th>8804</th>\n",
       "      <td>November 1, 2019</td>\n",
       "      <td>2019</td>\n",
       "      <td>November</td>\n",
       "    </tr>\n",
       "    <tr>\n",
       "      <th>8805</th>\n",
       "      <td>January 11, 2020</td>\n",
       "      <td>2020</td>\n",
       "      <td>January</td>\n",
       "    </tr>\n",
       "    <tr>\n",
       "      <th>8806</th>\n",
       "      <td>March 2, 2019</td>\n",
       "      <td>2019</td>\n",
       "      <td>March</td>\n",
       "    </tr>\n",
       "  </tbody>\n",
       "</table>\n",
       "<p>5687 rows × 3 columns</p>\n",
       "</div>"
      ],
      "text/plain": [
       "              date_added  Year      Month\n",
       "0     September 25, 2021  2021  September\n",
       "7     September 24, 2021  2021  September\n",
       "9     September 24, 2021  2021  September\n",
       "12    September 23, 2021  2021  September\n",
       "24    September 21, 2021  2021  September\n",
       "...                  ...   ...        ...\n",
       "8801       March 9, 2016  2016      March\n",
       "8802   November 20, 2019  2019   November\n",
       "8804    November 1, 2019  2019   November\n",
       "8805    January 11, 2020  2020    January\n",
       "8806       March 2, 2019  2019      March\n",
       "\n",
       "[5687 rows x 3 columns]"
      ]
     },
     "execution_count": 15,
     "metadata": {},
     "output_type": "execute_result"
    }
   ],
   "source": [
    "netflix_date['Year']=netflix_date['date_added'].apply(lambda x: x.split(', ')[-1])\n",
    "netflix_date['Month']=netflix_date['date_added'].apply(lambda x:x.lstrip().split(' ')[0])\n",
    "netflix_date"
   ]
  },
  {
   "cell_type": "code",
   "execution_count": 16,
   "id": "42d3ee97",
   "metadata": {
    "execution": {
     "iopub.execute_input": "2024-01-13T10:43:48.477305Z",
     "iopub.status.busy": "2024-01-13T10:43:48.476801Z",
     "iopub.status.idle": "2024-01-13T10:43:48.498272Z",
     "shell.execute_reply": "2024-01-13T10:43:48.497463Z"
    },
    "papermill": {
     "duration": 0.041688,
     "end_time": "2024-01-13T10:43:48.500497",
     "exception": false,
     "start_time": "2024-01-13T10:43:48.458809",
     "status": "completed"
    },
    "tags": []
   },
   "outputs": [
    {
     "data": {
      "text/html": [
       "<div>\n",
       "<style scoped>\n",
       "    .dataframe tbody tr th:only-of-type {\n",
       "        vertical-align: middle;\n",
       "    }\n",
       "\n",
       "    .dataframe tbody tr th {\n",
       "        vertical-align: top;\n",
       "    }\n",
       "\n",
       "    .dataframe thead th {\n",
       "        text-align: right;\n",
       "    }\n",
       "</style>\n",
       "<table border=\"1\" class=\"dataframe\">\n",
       "  <thead>\n",
       "    <tr style=\"text-align: right;\">\n",
       "      <th></th>\n",
       "      <th>date_added</th>\n",
       "      <th>Year</th>\n",
       "      <th>Month</th>\n",
       "    </tr>\n",
       "  </thead>\n",
       "  <tbody>\n",
       "    <tr>\n",
       "      <th>5957</th>\n",
       "      <td>January 1, 2008</td>\n",
       "      <td>2008</td>\n",
       "      <td>January</td>\n",
       "    </tr>\n",
       "    <tr>\n",
       "      <th>5956</th>\n",
       "      <td>May 5, 2009</td>\n",
       "      <td>2009</td>\n",
       "      <td>May</td>\n",
       "    </tr>\n",
       "    <tr>\n",
       "      <th>5955</th>\n",
       "      <td>November 18, 2009</td>\n",
       "      <td>2009</td>\n",
       "      <td>November</td>\n",
       "    </tr>\n",
       "    <tr>\n",
       "      <th>7370</th>\n",
       "      <td>November 1, 2010</td>\n",
       "      <td>2010</td>\n",
       "      <td>November</td>\n",
       "    </tr>\n",
       "    <tr>\n",
       "      <th>5954</th>\n",
       "      <td>May 17, 2011</td>\n",
       "      <td>2011</td>\n",
       "      <td>May</td>\n",
       "    </tr>\n",
       "    <tr>\n",
       "      <th>...</th>\n",
       "      <td>...</td>\n",
       "      <td>...</td>\n",
       "      <td>...</td>\n",
       "    </tr>\n",
       "    <tr>\n",
       "      <th>176</th>\n",
       "      <td>September 1, 2021</td>\n",
       "      <td>2021</td>\n",
       "      <td>September</td>\n",
       "    </tr>\n",
       "    <tr>\n",
       "      <th>177</th>\n",
       "      <td>September 1, 2021</td>\n",
       "      <td>2021</td>\n",
       "      <td>September</td>\n",
       "    </tr>\n",
       "    <tr>\n",
       "      <th>178</th>\n",
       "      <td>September 1, 2021</td>\n",
       "      <td>2021</td>\n",
       "      <td>September</td>\n",
       "    </tr>\n",
       "    <tr>\n",
       "      <th>179</th>\n",
       "      <td>September 1, 2021</td>\n",
       "      <td>2021</td>\n",
       "      <td>September</td>\n",
       "    </tr>\n",
       "    <tr>\n",
       "      <th>182</th>\n",
       "      <td>September 1, 2021</td>\n",
       "      <td>2021</td>\n",
       "      <td>September</td>\n",
       "    </tr>\n",
       "  </tbody>\n",
       "</table>\n",
       "<p>5687 rows × 3 columns</p>\n",
       "</div>"
      ],
      "text/plain": [
       "             date_added  Year      Month\n",
       "5957    January 1, 2008  2008    January\n",
       "5956        May 5, 2009  2009        May\n",
       "5955  November 18, 2009  2009   November\n",
       "7370   November 1, 2010  2010   November\n",
       "5954       May 17, 2011  2011        May\n",
       "...                 ...   ...        ...\n",
       "176   September 1, 2021  2021  September\n",
       "177   September 1, 2021  2021  September\n",
       "178   September 1, 2021  2021  September\n",
       "179   September 1, 2021  2021  September\n",
       "182   September 1, 2021  2021  September\n",
       "\n",
       "[5687 rows x 3 columns]"
      ]
     },
     "execution_count": 16,
     "metadata": {},
     "output_type": "execute_result"
    }
   ],
   "source": [
    "netflix_date.sort_values(by=['Year','Month'],)"
   ]
  },
  {
   "cell_type": "code",
   "execution_count": 17,
   "id": "8218df09",
   "metadata": {
    "execution": {
     "iopub.execute_input": "2024-01-13T10:43:48.537502Z",
     "iopub.status.busy": "2024-01-13T10:43:48.536747Z",
     "iopub.status.idle": "2024-01-13T10:43:48.541251Z",
     "shell.execute_reply": "2024-01-13T10:43:48.540533Z"
    },
    "papermill": {
     "duration": 0.02467,
     "end_time": "2024-01-13T10:43:48.542981",
     "exception": false,
     "start_time": "2024-01-13T10:43:48.518311",
     "status": "completed"
    },
    "tags": []
   },
   "outputs": [],
   "source": [
    "month_order=['January', 'February','March','April', 'May','June', \n",
    "             'July', 'August', 'September','October','November', 'December']"
   ]
  },
  {
   "cell_type": "code",
   "execution_count": 18,
   "id": "6d4ecbe7",
   "metadata": {
    "execution": {
     "iopub.execute_input": "2024-01-13T10:43:48.576561Z",
     "iopub.status.busy": "2024-01-13T10:43:48.576154Z",
     "iopub.status.idle": "2024-01-13T10:43:48.611712Z",
     "shell.execute_reply": "2024-01-13T10:43:48.610662Z"
    },
    "papermill": {
     "duration": 0.05527,
     "end_time": "2024-01-13T10:43:48.614550",
     "exception": false,
     "start_time": "2024-01-13T10:43:48.559280",
     "status": "completed"
    },
    "tags": []
   },
   "outputs": [
    {
     "data": {
      "text/html": [
       "<div>\n",
       "<style scoped>\n",
       "    .dataframe tbody tr th:only-of-type {\n",
       "        vertical-align: middle;\n",
       "    }\n",
       "\n",
       "    .dataframe tbody tr th {\n",
       "        vertical-align: top;\n",
       "    }\n",
       "\n",
       "    .dataframe thead th {\n",
       "        text-align: right;\n",
       "    }\n",
       "</style>\n",
       "<table border=\"1\" class=\"dataframe\">\n",
       "  <thead>\n",
       "    <tr style=\"text-align: right;\">\n",
       "      <th>Year</th>\n",
       "      <th>2008</th>\n",
       "      <th>2009</th>\n",
       "      <th>2010</th>\n",
       "      <th>2011</th>\n",
       "      <th>2012</th>\n",
       "      <th>2013</th>\n",
       "      <th>2014</th>\n",
       "      <th>2015</th>\n",
       "      <th>2016</th>\n",
       "      <th>2017</th>\n",
       "      <th>2018</th>\n",
       "      <th>2019</th>\n",
       "      <th>2020</th>\n",
       "      <th>2021</th>\n",
       "    </tr>\n",
       "    <tr>\n",
       "      <th>Month</th>\n",
       "      <th></th>\n",
       "      <th></th>\n",
       "      <th></th>\n",
       "      <th></th>\n",
       "      <th></th>\n",
       "      <th></th>\n",
       "      <th></th>\n",
       "      <th></th>\n",
       "      <th></th>\n",
       "      <th></th>\n",
       "      <th></th>\n",
       "      <th></th>\n",
       "      <th></th>\n",
       "      <th></th>\n",
       "    </tr>\n",
       "  </thead>\n",
       "  <tbody>\n",
       "    <tr>\n",
       "      <th>January</th>\n",
       "      <td>1.0</td>\n",
       "      <td>0.0</td>\n",
       "      <td>0.0</td>\n",
       "      <td>0.0</td>\n",
       "      <td>0.0</td>\n",
       "      <td>0.0</td>\n",
       "      <td>2.0</td>\n",
       "      <td>0.0</td>\n",
       "      <td>15.0</td>\n",
       "      <td>57.0</td>\n",
       "      <td>103.0</td>\n",
       "      <td>110.0</td>\n",
       "      <td>147.0</td>\n",
       "      <td>92.0</td>\n",
       "    </tr>\n",
       "    <tr>\n",
       "      <th>February</th>\n",
       "      <td>0.0</td>\n",
       "      <td>0.0</td>\n",
       "      <td>0.0</td>\n",
       "      <td>0.0</td>\n",
       "      <td>1.0</td>\n",
       "      <td>0.0</td>\n",
       "      <td>1.0</td>\n",
       "      <td>3.0</td>\n",
       "      <td>9.0</td>\n",
       "      <td>65.0</td>\n",
       "      <td>60.0</td>\n",
       "      <td>102.0</td>\n",
       "      <td>69.0</td>\n",
       "      <td>62.0</td>\n",
       "    </tr>\n",
       "    <tr>\n",
       "      <th>March</th>\n",
       "      <td>0.0</td>\n",
       "      <td>0.0</td>\n",
       "      <td>0.0</td>\n",
       "      <td>0.0</td>\n",
       "      <td>0.0</td>\n",
       "      <td>0.0</td>\n",
       "      <td>0.0</td>\n",
       "      <td>2.0</td>\n",
       "      <td>14.0</td>\n",
       "      <td>85.0</td>\n",
       "      <td>135.0</td>\n",
       "      <td>114.0</td>\n",
       "      <td>86.0</td>\n",
       "      <td>66.0</td>\n",
       "    </tr>\n",
       "    <tr>\n",
       "      <th>April</th>\n",
       "      <td>0.0</td>\n",
       "      <td>0.0</td>\n",
       "      <td>0.0</td>\n",
       "      <td>0.0</td>\n",
       "      <td>0.0</td>\n",
       "      <td>0.0</td>\n",
       "      <td>1.0</td>\n",
       "      <td>1.0</td>\n",
       "      <td>14.0</td>\n",
       "      <td>65.0</td>\n",
       "      <td>86.0</td>\n",
       "      <td>110.0</td>\n",
       "      <td>124.0</td>\n",
       "      <td>110.0</td>\n",
       "    </tr>\n",
       "    <tr>\n",
       "      <th>May</th>\n",
       "      <td>0.0</td>\n",
       "      <td>1.0</td>\n",
       "      <td>0.0</td>\n",
       "      <td>1.0</td>\n",
       "      <td>0.0</td>\n",
       "      <td>0.0</td>\n",
       "      <td>0.0</td>\n",
       "      <td>5.0</td>\n",
       "      <td>8.0</td>\n",
       "      <td>62.0</td>\n",
       "      <td>66.0</td>\n",
       "      <td>83.0</td>\n",
       "      <td>96.0</td>\n",
       "      <td>70.0</td>\n",
       "    </tr>\n",
       "    <tr>\n",
       "      <th>June</th>\n",
       "      <td>0.0</td>\n",
       "      <td>0.0</td>\n",
       "      <td>0.0</td>\n",
       "      <td>0.0</td>\n",
       "      <td>0.0</td>\n",
       "      <td>0.0</td>\n",
       "      <td>1.0</td>\n",
       "      <td>4.0</td>\n",
       "      <td>11.0</td>\n",
       "      <td>64.0</td>\n",
       "      <td>49.0</td>\n",
       "      <td>115.0</td>\n",
       "      <td>110.0</td>\n",
       "      <td>89.0</td>\n",
       "    </tr>\n",
       "    <tr>\n",
       "      <th>July</th>\n",
       "      <td>0.0</td>\n",
       "      <td>0.0</td>\n",
       "      <td>0.0</td>\n",
       "      <td>0.0</td>\n",
       "      <td>0.0</td>\n",
       "      <td>0.0</td>\n",
       "      <td>1.0</td>\n",
       "      <td>5.0</td>\n",
       "      <td>19.0</td>\n",
       "      <td>45.0</td>\n",
       "      <td>124.0</td>\n",
       "      <td>96.0</td>\n",
       "      <td>99.0</td>\n",
       "      <td>101.0</td>\n",
       "    </tr>\n",
       "    <tr>\n",
       "      <th>August</th>\n",
       "      <td>0.0</td>\n",
       "      <td>0.0</td>\n",
       "      <td>0.0</td>\n",
       "      <td>0.0</td>\n",
       "      <td>0.0</td>\n",
       "      <td>0.0</td>\n",
       "      <td>1.0</td>\n",
       "      <td>2.0</td>\n",
       "      <td>22.0</td>\n",
       "      <td>70.0</td>\n",
       "      <td>128.0</td>\n",
       "      <td>81.0</td>\n",
       "      <td>76.0</td>\n",
       "      <td>91.0</td>\n",
       "    </tr>\n",
       "    <tr>\n",
       "      <th>September</th>\n",
       "      <td>0.0</td>\n",
       "      <td>0.0</td>\n",
       "      <td>0.0</td>\n",
       "      <td>1.0</td>\n",
       "      <td>0.0</td>\n",
       "      <td>1.0</td>\n",
       "      <td>1.0</td>\n",
       "      <td>6.0</td>\n",
       "      <td>22.0</td>\n",
       "      <td>71.0</td>\n",
       "      <td>78.0</td>\n",
       "      <td>83.0</td>\n",
       "      <td>108.0</td>\n",
       "      <td>89.0</td>\n",
       "    </tr>\n",
       "    <tr>\n",
       "      <th>October</th>\n",
       "      <td>0.0</td>\n",
       "      <td>0.0</td>\n",
       "      <td>0.0</td>\n",
       "      <td>11.0</td>\n",
       "      <td>0.0</td>\n",
       "      <td>1.0</td>\n",
       "      <td>4.0</td>\n",
       "      <td>10.0</td>\n",
       "      <td>31.0</td>\n",
       "      <td>96.0</td>\n",
       "      <td>134.0</td>\n",
       "      <td>118.0</td>\n",
       "      <td>113.0</td>\n",
       "      <td>0.0</td>\n",
       "    </tr>\n",
       "    <tr>\n",
       "      <th>November</th>\n",
       "      <td>0.0</td>\n",
       "      <td>1.0</td>\n",
       "      <td>1.0</td>\n",
       "      <td>0.0</td>\n",
       "      <td>1.0</td>\n",
       "      <td>2.0</td>\n",
       "      <td>2.0</td>\n",
       "      <td>2.0</td>\n",
       "      <td>25.0</td>\n",
       "      <td>54.0</td>\n",
       "      <td>115.0</td>\n",
       "      <td>180.0</td>\n",
       "      <td>100.0</td>\n",
       "      <td>0.0</td>\n",
       "    </tr>\n",
       "    <tr>\n",
       "      <th>December</th>\n",
       "      <td>0.0</td>\n",
       "      <td>0.0</td>\n",
       "      <td>0.0</td>\n",
       "      <td>0.0</td>\n",
       "      <td>1.0</td>\n",
       "      <td>2.0</td>\n",
       "      <td>5.0</td>\n",
       "      <td>14.0</td>\n",
       "      <td>52.0</td>\n",
       "      <td>78.0</td>\n",
       "      <td>114.0</td>\n",
       "      <td>157.0</td>\n",
       "      <td>95.0</td>\n",
       "      <td>0.0</td>\n",
       "    </tr>\n",
       "  </tbody>\n",
       "</table>\n",
       "</div>"
      ],
      "text/plain": [
       "Year       2008  2009  2010  2011  2012  2013  2014  2015  2016  2017   2018  \\\n",
       "Month                                                                          \n",
       "January     1.0   0.0   0.0   0.0   0.0   0.0   2.0   0.0  15.0  57.0  103.0   \n",
       "February    0.0   0.0   0.0   0.0   1.0   0.0   1.0   3.0   9.0  65.0   60.0   \n",
       "March       0.0   0.0   0.0   0.0   0.0   0.0   0.0   2.0  14.0  85.0  135.0   \n",
       "April       0.0   0.0   0.0   0.0   0.0   0.0   1.0   1.0  14.0  65.0   86.0   \n",
       "May         0.0   1.0   0.0   1.0   0.0   0.0   0.0   5.0   8.0  62.0   66.0   \n",
       "June        0.0   0.0   0.0   0.0   0.0   0.0   1.0   4.0  11.0  64.0   49.0   \n",
       "July        0.0   0.0   0.0   0.0   0.0   0.0   1.0   5.0  19.0  45.0  124.0   \n",
       "August      0.0   0.0   0.0   0.0   0.0   0.0   1.0   2.0  22.0  70.0  128.0   \n",
       "September   0.0   0.0   0.0   1.0   0.0   1.0   1.0   6.0  22.0  71.0   78.0   \n",
       "October     0.0   0.0   0.0  11.0   0.0   1.0   4.0  10.0  31.0  96.0  134.0   \n",
       "November    0.0   1.0   1.0   0.0   1.0   2.0   2.0   2.0  25.0  54.0  115.0   \n",
       "December    0.0   0.0   0.0   0.0   1.0   2.0   5.0  14.0  52.0  78.0  114.0   \n",
       "\n",
       "Year        2019   2020   2021  \n",
       "Month                           \n",
       "January    110.0  147.0   92.0  \n",
       "February   102.0   69.0   62.0  \n",
       "March      114.0   86.0   66.0  \n",
       "April      110.0  124.0  110.0  \n",
       "May         83.0   96.0   70.0  \n",
       "June       115.0  110.0   89.0  \n",
       "July        96.0   99.0  101.0  \n",
       "August      81.0   76.0   91.0  \n",
       "September   83.0  108.0   89.0  \n",
       "October    118.0  113.0    0.0  \n",
       "November   180.0  100.0    0.0  \n",
       "December   157.0   95.0    0.0  "
      ]
     },
     "execution_count": 18,
     "metadata": {},
     "output_type": "execute_result"
    }
   ],
   "source": [
    "movie_count = netflix_date.groupby('Year')['Month'].value_counts().unstack().fillna(0)[month_order].T\n",
    "movie_count"
   ]
  },
  {
   "cell_type": "code",
   "execution_count": 19,
   "id": "09d8f06f",
   "metadata": {
    "execution": {
     "iopub.execute_input": "2024-01-13T10:43:48.651910Z",
     "iopub.status.busy": "2024-01-13T10:43:48.650868Z",
     "iopub.status.idle": "2024-01-13T10:43:49.066348Z",
     "shell.execute_reply": "2024-01-13T10:43:49.064803Z"
    },
    "papermill": {
     "duration": 0.436942,
     "end_time": "2024-01-13T10:43:49.068666",
     "exception": false,
     "start_time": "2024-01-13T10:43:48.631724",
     "status": "completed"
    },
    "tags": []
   },
   "outputs": [
    {
     "data": {
      "image/png": "[encoded data removed]",
      "text/plain": [
       "<Figure size 1000x800 with 2 Axes>"
      ]
     },
     "metadata": {},
     "output_type": "display_data"
    }
   ],
   "source": [
    "plt.figure(figsize=(10,8),dpi=100)\n",
    "plt.pcolor(movie_count,cmap='GnBu',edgecolors='white',linewidths=2)\n",
    "plt.xticks(np.arange(0.5,len(movie_count.columns),1),movie_count.columns,fontsize=7)\n",
    "plt.yticks(np.arange(0.5,len(movie_count.index),1),movie_count.index,fontsize=7)\n",
    "plt.title('Netflix Content Update', fontsize = 12, fontweight = 'bold')\n",
    "cbar=plt.colorbar()\n",
    "cbar.ax.tick_params(labelsize = 8)\n",
    "cbar.ax.minorticks_on()\n",
    "plt.show()"
   ]
  },
  {
   "cell_type": "markdown",
   "id": "0799da2b",
   "metadata": {
    "papermill": {
     "duration": 0.017807,
     "end_time": "2024-01-13T10:43:49.103779",
     "exception": false,
     "start_time": "2024-01-13T10:43:49.085972",
     "status": "completed"
    },
    "tags": []
   },
   "source": [
    "may month has least contents throught years"
   ]
  },
  {
   "cell_type": "markdown",
   "id": "672506af",
   "metadata": {
    "papermill": {
     "duration": 0.017227,
     "end_time": "2024-01-13T10:43:49.139170",
     "exception": false,
     "start_time": "2024-01-13T10:43:49.121943",
     "status": "completed"
    },
    "tags": []
   },
   "source": [
    "Analyzing movie rating"
   ]
  },
  {
   "cell_type": "code",
   "execution_count": 20,
   "id": "9e227b76",
   "metadata": {
    "execution": {
     "iopub.execute_input": "2024-01-13T10:43:49.175703Z",
     "iopub.status.busy": "2024-01-13T10:43:49.175280Z",
     "iopub.status.idle": "2024-01-13T10:43:49.527842Z",
     "shell.execute_reply": "2024-01-13T10:43:49.526249Z"
    },
    "papermill": {
     "duration": 0.374508,
     "end_time": "2024-01-13T10:43:49.531069",
     "exception": false,
     "start_time": "2024-01-13T10:43:49.156561",
     "status": "completed"
    },
    "tags": []
   },
   "outputs": [
    {
     "data": {
      "image/png": "[encoded data removed]",
      "text/plain": [
       "<Figure size 1200x1000 with 1 Axes>"
      ]
     },
     "metadata": {},
     "output_type": "display_data"
    }
   ],
   "source": [
    "plt.figure(figsize=(12,10))\n",
    "ax=sns.countplot(netflix_movies,x='rating',order=netflix_movies['rating'].value_counts().index[0:15])\n",
    "for bars in ax.containers:\n",
    "    ax.bar_label(bars)"
   ]
  },
  {
   "cell_type": "markdown",
   "id": "babf9ee9",
   "metadata": {
    "papermill": {
     "duration": 0.018298,
     "end_time": "2024-01-13T10:43:49.568255",
     "exception": false,
     "start_time": "2024-01-13T10:43:49.549957",
     "status": "completed"
    },
    "tags": []
   },
   "source": [
    "TV-MA - The largest group. This rating is given for films intended for adult audiences only.\n",
    "\n",
    "TV-14 - The second largest group. The content of the film with this rating is not suitable for children under 14 years of age.\n",
    "\n",
    "R - The film is not suitable for children under 17 years of age."
   ]
  },
  {
   "cell_type": "markdown",
   "id": "ac2cf6c8",
   "metadata": {
    "papermill": {
     "duration": 0.016547,
     "end_time": "2024-01-13T10:43:49.603654",
     "exception": false,
     "start_time": "2024-01-13T10:43:49.587107",
     "status": "completed"
    },
    "tags": []
   },
   "source": [
    "Film realse year analysis(year wisw movie count)"
   ]
  },
  {
   "cell_type": "code",
   "execution_count": 21,
   "id": "d551fe6d",
   "metadata": {
    "execution": {
     "iopub.execute_input": "2024-01-13T10:43:49.640485Z",
     "iopub.status.busy": "2024-01-13T10:43:49.639104Z",
     "iopub.status.idle": "2024-01-13T10:43:49.982293Z",
     "shell.execute_reply": "2024-01-13T10:43:49.980748Z"
    },
    "papermill": {
     "duration": 0.364142,
     "end_time": "2024-01-13T10:43:49.984557",
     "exception": false,
     "start_time": "2024-01-13T10:43:49.620415",
     "status": "completed"
    },
    "tags": []
   },
   "outputs": [
    {
     "data": {
      "image/png": "[encoded data removed]",
      "text/plain": [
       "<Figure size 1200x1000 with 1 Axes>"
      ]
     },
     "metadata": {},
     "output_type": "display_data"
    }
   ],
   "source": [
    "plt.figure(figsize=(12,10))\n",
    "bx=sns.countplot(netflix_date,x='Year')\n",
    "bx.set_xticklabels(bx.get_xticklabels(), rotation=45)\n",
    "for bars in bx.containers:\n",
    "    bx.bar_label(bars)\n"
   ]
  },
  {
   "cell_type": "markdown",
   "id": "2abebbdf",
   "metadata": {
    "papermill": {
     "duration": 0.019042,
     "end_time": "2024-01-13T10:43:50.021937",
     "exception": false,
     "start_time": "2024-01-13T10:43:50.002895",
     "status": "completed"
    },
    "tags": []
   },
   "source": [
    "The most movies were realsed in 2019"
   ]
  },
  {
   "cell_type": "markdown",
   "id": "f0027bdf",
   "metadata": {
    "papermill": {
     "duration": 0.017935,
     "end_time": "2024-01-13T10:43:50.059374",
     "exception": false,
     "start_time": "2024-01-13T10:43:50.041439",
     "status": "completed"
    },
    "tags": []
   },
   "source": [
    "which are top 10 countries which produce most movies"
   ]
  },
  {
   "cell_type": "code",
   "execution_count": 22,
   "id": "d025d21e",
   "metadata": {
    "execution": {
     "iopub.execute_input": "2024-01-13T10:43:50.098968Z",
     "iopub.status.busy": "2024-01-13T10:43:50.098512Z",
     "iopub.status.idle": "2024-01-13T10:43:50.118944Z",
     "shell.execute_reply": "2024-01-13T10:43:50.116979Z"
    },
    "papermill": {
     "duration": 0.044107,
     "end_time": "2024-01-13T10:43:50.121625",
     "exception": false,
     "start_time": "2024-01-13T10:43:50.077518",
     "status": "completed"
    },
    "tags": []
   },
   "outputs": [
    {
     "data": {
      "text/html": [
       "<div>\n",
       "<style scoped>\n",
       "    .dataframe tbody tr th:only-of-type {\n",
       "        vertical-align: middle;\n",
       "    }\n",
       "\n",
       "    .dataframe tbody tr th {\n",
       "        vertical-align: top;\n",
       "    }\n",
       "\n",
       "    .dataframe thead th {\n",
       "        text-align: right;\n",
       "    }\n",
       "</style>\n",
       "<table border=\"1\" class=\"dataframe\">\n",
       "  <thead>\n",
       "    <tr style=\"text-align: right;\">\n",
       "      <th></th>\n",
       "      <th>country</th>\n",
       "      <th>count</th>\n",
       "    </tr>\n",
       "  </thead>\n",
       "  <tbody>\n",
       "    <tr>\n",
       "      <th>525</th>\n",
       "      <td>United States</td>\n",
       "      <td>2055</td>\n",
       "    </tr>\n",
       "    <tr>\n",
       "      <th>218</th>\n",
       "      <td>India</td>\n",
       "      <td>893</td>\n",
       "    </tr>\n",
       "    <tr>\n",
       "      <th>440</th>\n",
       "      <td>United Kingdom</td>\n",
       "      <td>206</td>\n",
       "    </tr>\n",
       "    <tr>\n",
       "      <th>50</th>\n",
       "      <td>Canada</td>\n",
       "      <td>122</td>\n",
       "    </tr>\n",
       "    <tr>\n",
       "      <th>384</th>\n",
       "      <td>Spain</td>\n",
       "      <td>97</td>\n",
       "    </tr>\n",
       "    <tr>\n",
       "      <th>128</th>\n",
       "      <td>Egypt</td>\n",
       "      <td>92</td>\n",
       "    </tr>\n",
       "    <tr>\n",
       "      <th>319</th>\n",
       "      <td>Nigeria</td>\n",
       "      <td>86</td>\n",
       "    </tr>\n",
       "    <tr>\n",
       "      <th>238</th>\n",
       "      <td>Indonesia</td>\n",
       "      <td>77</td>\n",
       "    </tr>\n",
       "    <tr>\n",
       "      <th>428</th>\n",
       "      <td>Turkey</td>\n",
       "      <td>76</td>\n",
       "    </tr>\n",
       "    <tr>\n",
       "      <th>278</th>\n",
       "      <td>Japan</td>\n",
       "      <td>76</td>\n",
       "    </tr>\n",
       "  </tbody>\n",
       "</table>\n",
       "</div>"
      ],
      "text/plain": [
       "            country  count\n",
       "525   United States   2055\n",
       "218           India    893\n",
       "440  United Kingdom    206\n",
       "50           Canada    122\n",
       "384           Spain     97\n",
       "128           Egypt     92\n",
       "319         Nigeria     86\n",
       "238       Indonesia     77\n",
       "428          Turkey     76\n",
       "278           Japan     76"
      ]
     },
     "execution_count": 22,
     "metadata": {},
     "output_type": "execute_result"
    }
   ],
   "source": [
    "a=netflix_movies.groupby(by='country',as_index=False)['title'].count().sort_values(by='title',ascending=False).head(10)\n",
    "a.rename(columns={\"country\":\"country\",\"title\":\"count\"},inplace=True)\n",
    "a"
   ]
  },
  {
   "cell_type": "code",
   "execution_count": 23,
   "id": "c3a29de5",
   "metadata": {
    "execution": {
     "iopub.execute_input": "2024-01-13T10:43:50.158483Z",
     "iopub.status.busy": "2024-01-13T10:43:50.157863Z",
     "iopub.status.idle": "2024-01-13T10:43:50.439305Z",
     "shell.execute_reply": "2024-01-13T10:43:50.438421Z"
    },
    "papermill": {
     "duration": 0.302103,
     "end_time": "2024-01-13T10:43:50.441322",
     "exception": false,
     "start_time": "2024-01-13T10:43:50.139219",
     "status": "completed"
    },
    "tags": []
   },
   "outputs": [
    {
     "data": {
      "image/png": "[encoded data removed]",
      "text/plain": [
       "<Figure size 1200x1000 with 1 Axes>"
      ]
     },
     "metadata": {},
     "output_type": "display_data"
    }
   ],
   "source": [
    "plt.figure(figsize=(12,10))\n",
    "cx=sns.barplot(a,x='country',y='count')\n",
    "for bars in cx.containers:\n",
    "    cx.bar_label(bars)"
   ]
  },
  {
   "cell_type": "markdown",
   "id": "d7cf4a0d",
   "metadata": {
    "papermill": {
     "duration": 0.017449,
     "end_time": "2024-01-13T10:43:50.477486",
     "exception": false,
     "start_time": "2024-01-13T10:43:50.460037",
     "status": "completed"
    },
    "tags": []
   },
   "source": [
    "Movie Duration Analysis"
   ]
  },
  {
   "cell_type": "code",
   "execution_count": 24,
   "id": "e0e0a2c0",
   "metadata": {
    "execution": {
     "iopub.execute_input": "2024-01-13T10:43:50.514862Z",
     "iopub.status.busy": "2024-01-13T10:43:50.514502Z",
     "iopub.status.idle": "2024-01-13T10:43:50.526210Z",
     "shell.execute_reply": "2024-01-13T10:43:50.524318Z"
    },
    "papermill": {
     "duration": 0.033431,
     "end_time": "2024-01-13T10:43:50.528838",
     "exception": false,
     "start_time": "2024-01-13T10:43:50.495407",
     "status": "completed"
    },
    "tags": []
   },
   "outputs": [],
   "source": [
    "netflix_movies['duration'] = pd.to_numeric(netflix_movies['duration'].str.replace(' min', ''), errors='coerce')"
   ]
  },
  {
   "cell_type": "code",
   "execution_count": 25,
   "id": "ddcae5cc",
   "metadata": {
    "execution": {
     "iopub.execute_input": "2024-01-13T10:43:50.569190Z",
     "iopub.status.busy": "2024-01-13T10:43:50.568680Z",
     "iopub.status.idle": "2024-01-13T10:43:50.984879Z",
     "shell.execute_reply": "2024-01-13T10:43:50.983319Z"
    },
    "papermill": {
     "duration": 0.439131,
     "end_time": "2024-01-13T10:43:50.987231",
     "exception": false,
     "start_time": "2024-01-13T10:43:50.548100",
     "status": "completed"
    },
    "tags": []
   },
   "outputs": [
    {
     "data": {
      "text/plain": [
       "<Axes: xlabel='duration', ylabel='Density'>"
      ]
     },
     "execution_count": 25,
     "metadata": {},
     "output_type": "execute_result"
    },
    {
     "data": {
      "image/png": "[encoded data removed]",
      "text/plain": [
       "<Figure size 1000x800 with 1 Axes>"
      ]
     },
     "metadata": {},
     "output_type": "display_data"
    }
   ],
   "source": [
    "sns.set(style = 'darkgrid')\n",
    "plt.figure(figsize = (10,8))\n",
    "sns.kdeplot(netflix_movies,x='duration',shade=True)"
   ]
  },
  {
   "cell_type": "markdown",
   "id": "38792a8f",
   "metadata": {
    "papermill": {
     "duration": 0.020389,
     "end_time": "2024-01-13T10:43:51.027137",
     "exception": false,
     "start_time": "2024-01-13T10:43:51.006748",
     "status": "completed"
    },
    "tags": []
   },
   "source": [
    "A large number of films last 75-120 minutes"
   ]
  },
  {
   "cell_type": "markdown",
   "id": "e67f6a93",
   "metadata": {
    "papermill": {
     "duration": 0.018559,
     "end_time": "2024-01-13T10:43:51.063883",
     "exception": false,
     "start_time": "2024-01-13T10:43:51.045324",
     "status": "completed"
    },
    "tags": []
   },
   "source": [
    "genere analysis"
   ]
  },
  {
   "cell_type": "code",
   "execution_count": 26,
   "id": "fe81bffe",
   "metadata": {
    "execution": {
     "iopub.execute_input": "2024-01-13T10:43:51.104162Z",
     "iopub.status.busy": "2024-01-13T10:43:51.103787Z",
     "iopub.status.idle": "2024-01-13T10:43:51.109963Z",
     "shell.execute_reply": "2024-01-13T10:43:51.108533Z"
    },
    "papermill": {
     "duration": 0.029638,
     "end_time": "2024-01-13T10:43:51.112134",
     "exception": false,
     "start_time": "2024-01-13T10:43:51.082496",
     "status": "completed"
    },
    "tags": []
   },
   "outputs": [],
   "source": [
    "from collections import Counter"
   ]
  },
  {
   "cell_type": "code",
   "execution_count": 27,
   "id": "dd363561",
   "metadata": {
    "execution": {
     "iopub.execute_input": "2024-01-13T10:43:51.150751Z",
     "iopub.status.busy": "2024-01-13T10:43:51.150353Z",
     "iopub.status.idle": "2024-01-13T10:43:51.164174Z",
     "shell.execute_reply": "2024-01-13T10:43:51.162893Z"
    },
    "papermill": {
     "duration": 0.034952,
     "end_time": "2024-01-13T10:43:51.166044",
     "exception": false,
     "start_time": "2024-01-13T10:43:51.131092",
     "status": "completed"
    },
    "tags": []
   },
   "outputs": [],
   "source": [
    "genres = list(netflix_movies['listed_in'])\n",
    "gen  = []\n",
    "for i in genres:\n",
    "    i = list(i.split(','))\n",
    "    for j in i:\n",
    "        gen.append(j.replace(' ', ''))\n",
    "g = Counter(gen)"
   ]
  },
  {
   "cell_type": "code",
   "execution_count": 28,
   "id": "544f2b8c",
   "metadata": {
    "execution": {
     "iopub.execute_input": "2024-01-13T10:43:51.207688Z",
     "iopub.status.busy": "2024-01-13T10:43:51.206900Z",
     "iopub.status.idle": "2024-01-13T10:43:51.213735Z",
     "shell.execute_reply": "2024-01-13T10:43:51.213010Z"
    },
    "papermill": {
     "duration": 0.028867,
     "end_time": "2024-01-13T10:43:51.215218",
     "exception": false,
     "start_time": "2024-01-13T10:43:51.186351",
     "status": "completed"
    },
    "tags": []
   },
   "outputs": [
    {
     "data": {
      "text/plain": [
       "[('InternationalMovies', 2543),\n",
       " ('Dramas', 2316),\n",
       " ('Comedies', 1580),\n",
       " ('Action&Adventure', 817),\n",
       " ('Documentaries', 794),\n",
       " ('IndependentMovies', 745),\n",
       " ('RomanticMovies', 588),\n",
       " ('Thrillers', 549),\n",
       " ('Children&FamilyMovies', 535),\n",
       " ('HorrorMovies', 340),\n",
       " ('Music&Musicals', 328),\n",
       " ('Stand-UpComedy', 311),\n",
       " ('Sci-Fi&Fantasy', 242),\n",
       " ('SportsMovies', 201),\n",
       " ('ClassicMovies', 115),\n",
       " ('LGBTQMovies', 97),\n",
       " ('CultMovies', 70),\n",
       " ('AnimeFeatures', 63),\n",
       " ('Faith&Spirituality', 63),\n",
       " ('Movies', 31)]"
      ]
     },
     "execution_count": 28,
     "metadata": {},
     "output_type": "execute_result"
    }
   ],
   "source": [
    "g = sorted(g.items(), key = lambda item: g[item[0]], reverse = True)\n",
    "g"
   ]
  },
  {
   "cell_type": "code",
   "execution_count": 29,
   "id": "7fd71538",
   "metadata": {
    "execution": {
     "iopub.execute_input": "2024-01-13T10:43:51.256763Z",
     "iopub.status.busy": "2024-01-13T10:43:51.255997Z",
     "iopub.status.idle": "2024-01-13T10:43:51.262997Z",
     "shell.execute_reply": "2024-01-13T10:43:51.261709Z"
    },
    "papermill": {
     "duration": 0.031765,
     "end_time": "2024-01-13T10:43:51.265996",
     "exception": false,
     "start_time": "2024-01-13T10:43:51.234231",
     "status": "completed"
    },
    "tags": []
   },
   "outputs": [
    {
     "data": {
      "text/plain": [
       "[2543,\n",
       " 2316,\n",
       " 1580,\n",
       " 817,\n",
       " 794,\n",
       " 745,\n",
       " 588,\n",
       " 549,\n",
       " 535,\n",
       " 340,\n",
       " 328,\n",
       " 311,\n",
       " 242,\n",
       " 201,\n",
       " 115,\n",
       " 97,\n",
       " 70,\n",
       " 63,\n",
       " 63,\n",
       " 31]"
      ]
     },
     "execution_count": 29,
     "metadata": {},
     "output_type": "execute_result"
    }
   ],
   "source": [
    "genre_names = [name for name , value in g]\n",
    "genre_names\n",
    "genre_value=[value for name,value in g]\n",
    "genre_value"
   ]
  },
  {
   "cell_type": "code",
   "execution_count": 30,
   "id": "77d36825",
   "metadata": {
    "execution": {
     "iopub.execute_input": "2024-01-13T10:43:51.306958Z",
     "iopub.status.busy": "2024-01-13T10:43:51.306536Z",
     "iopub.status.idle": "2024-01-13T10:43:51.786646Z",
     "shell.execute_reply": "2024-01-13T10:43:51.785811Z"
    },
    "papermill": {
     "duration": 0.502697,
     "end_time": "2024-01-13T10:43:51.788593",
     "exception": false,
     "start_time": "2024-01-13T10:43:51.285896",
     "status": "completed"
    },
    "tags": []
   },
   "outputs": [
    {
     "data": {
      "image/png": "[encoded data removed]",
      "text/plain": [
       "<Figure size 1000x1000 with 1 Axes>"
      ]
     },
     "metadata": {},
     "output_type": "display_data"
    }
   ],
   "source": [
    "plt.figure(figsize=(10,10))\n",
    "dx=sns.barplot(x=genre_names,y=genre_value)\n",
    "dx.set_xticklabels(genre_names,rotation=90)\n",
    "dx.set_ylabel('count_movie')\n",
    "dx.set_xlabel('genre')\n",
    "for bars in dx.containers:\n",
    "    dx.bar_label(bars)\n",
    "plt.show()"
   ]
  },
  {
   "cell_type": "markdown",
   "id": "e5f2c761",
   "metadata": {
    "papermill": {
     "duration": 0.02769,
     "end_time": "2024-01-13T10:43:51.844225",
     "exception": false,
     "start_time": "2024-01-13T10:43:51.816535",
     "status": "completed"
    },
    "tags": []
   },
   "source": [
    "International films, dramas and comedies - top genres"
   ]
  },
  {
   "cell_type": "markdown",
   "id": "92cfd250",
   "metadata": {
    "papermill": {
     "duration": 0.020144,
     "end_time": "2024-01-13T10:43:51.888723",
     "exception": false,
     "start_time": "2024-01-13T10:43:51.868579",
     "status": "completed"
    },
    "tags": []
   },
   "source": [
    "# shows analysis"
   ]
  },
  {
   "cell_type": "code",
   "execution_count": 31,
   "id": "18cd56a1",
   "metadata": {
    "execution": {
     "iopub.execute_input": "2024-01-13T10:43:51.930197Z",
     "iopub.status.busy": "2024-01-13T10:43:51.929842Z",
     "iopub.status.idle": "2024-01-13T10:43:51.941902Z",
     "shell.execute_reply": "2024-01-13T10:43:51.940271Z"
    },
    "papermill": {
     "duration": 0.035991,
     "end_time": "2024-01-13T10:43:51.944714",
     "exception": false,
     "start_time": "2024-01-13T10:43:51.908723",
     "status": "completed"
    },
    "tags": []
   },
   "outputs": [
    {
     "data": {
      "text/plain": [
       "show_id         0\n",
       "type            0\n",
       "title           0\n",
       "director        0\n",
       "cast            0\n",
       "country         0\n",
       "date_added      9\n",
       "release_year    0\n",
       "rating          0\n",
       "duration        0\n",
       "listed_in       0\n",
       "description     0\n",
       "dtype: int64"
      ]
     },
     "execution_count": 31,
     "metadata": {},
     "output_type": "execute_result"
    }
   ],
   "source": [
    "netflix_shows.isnull().sum()"
   ]
  },
  {
   "cell_type": "code",
   "execution_count": 32,
   "id": "38ff8a19",
   "metadata": {
    "execution": {
     "iopub.execute_input": "2024-01-13T10:43:51.987030Z",
     "iopub.status.busy": "2024-01-13T10:43:51.986667Z",
     "iopub.status.idle": "2024-01-13T10:43:52.002381Z",
     "shell.execute_reply": "2024-01-13T10:43:52.001314Z"
    },
    "papermill": {
     "duration": 0.038605,
     "end_time": "2024-01-13T10:43:52.004474",
     "exception": false,
     "start_time": "2024-01-13T10:43:51.965869",
     "status": "completed"
    },
    "tags": []
   },
   "outputs": [
    {
     "data": {
      "text/html": [
       "<div>\n",
       "<style scoped>\n",
       "    .dataframe tbody tr th:only-of-type {\n",
       "        vertical-align: middle;\n",
       "    }\n",
       "\n",
       "    .dataframe tbody tr th {\n",
       "        vertical-align: top;\n",
       "    }\n",
       "\n",
       "    .dataframe thead th {\n",
       "        text-align: right;\n",
       "    }\n",
       "</style>\n",
       "<table border=\"1\" class=\"dataframe\">\n",
       "  <thead>\n",
       "    <tr style=\"text-align: right;\">\n",
       "      <th></th>\n",
       "      <th>country</th>\n",
       "      <th>count</th>\n",
       "    </tr>\n",
       "  </thead>\n",
       "  <tbody>\n",
       "    <tr>\n",
       "      <th>160</th>\n",
       "      <td>United States</td>\n",
       "      <td>760</td>\n",
       "    </tr>\n",
       "    <tr>\n",
       "      <th>140</th>\n",
       "      <td>United Kingdom</td>\n",
       "      <td>213</td>\n",
       "    </tr>\n",
       "    <tr>\n",
       "      <th>83</th>\n",
       "      <td>Japan</td>\n",
       "      <td>168</td>\n",
       "    </tr>\n",
       "    <tr>\n",
       "      <th>120</th>\n",
       "      <td>South Korea</td>\n",
       "      <td>158</td>\n",
       "    </tr>\n",
       "    <tr>\n",
       "      <th>66</th>\n",
       "      <td>India</td>\n",
       "      <td>79</td>\n",
       "    </tr>\n",
       "    <tr>\n",
       "      <th>132</th>\n",
       "      <td>Taiwan</td>\n",
       "      <td>68</td>\n",
       "    </tr>\n",
       "    <tr>\n",
       "      <th>17</th>\n",
       "      <td>Canada</td>\n",
       "      <td>59</td>\n",
       "    </tr>\n",
       "    <tr>\n",
       "      <th>47</th>\n",
       "      <td>France</td>\n",
       "      <td>49</td>\n",
       "    </tr>\n",
       "    <tr>\n",
       "      <th>125</th>\n",
       "      <td>Spain</td>\n",
       "      <td>48</td>\n",
       "    </tr>\n",
       "    <tr>\n",
       "      <th>4</th>\n",
       "      <td>Australia</td>\n",
       "      <td>47</td>\n",
       "    </tr>\n",
       "  </tbody>\n",
       "</table>\n",
       "</div>"
      ],
      "text/plain": [
       "            country  count\n",
       "160   United States    760\n",
       "140  United Kingdom    213\n",
       "83            Japan    168\n",
       "120     South Korea    158\n",
       "66            India     79\n",
       "132          Taiwan     68\n",
       "17           Canada     59\n",
       "47           France     49\n",
       "125           Spain     48\n",
       "4         Australia     47"
      ]
     },
     "execution_count": 32,
     "metadata": {},
     "output_type": "execute_result"
    }
   ],
   "source": [
    "b=netflix_shows.groupby(by='country',as_index=False)['title'].count().sort_values(by='title',ascending=False).head(10)\n",
    "b.rename(columns={\"country\":\"country\",\"title\":\"count\"},inplace=True)\n",
    "b"
   ]
  },
  {
   "cell_type": "code",
   "execution_count": 33,
   "id": "ec369f6a",
   "metadata": {
    "execution": {
     "iopub.execute_input": "2024-01-13T10:43:52.055588Z",
     "iopub.status.busy": "2024-01-13T10:43:52.055270Z",
     "iopub.status.idle": "2024-01-13T10:43:52.420938Z",
     "shell.execute_reply": "2024-01-13T10:43:52.419657Z"
    },
    "papermill": {
     "duration": 0.394574,
     "end_time": "2024-01-13T10:43:52.423339",
     "exception": false,
     "start_time": "2024-01-13T10:43:52.028765",
     "status": "completed"
    },
    "tags": []
   },
   "outputs": [
    {
     "data": {
      "text/plain": [
       "[Text(0, 0, 'United States'),\n",
       " Text(1, 0, 'United Kingdom'),\n",
       " Text(2, 0, 'Japan'),\n",
       " Text(3, 0, 'South Korea'),\n",
       " Text(4, 0, 'India'),\n",
       " Text(5, 0, 'Taiwan'),\n",
       " Text(6, 0, 'Canada'),\n",
       " Text(7, 0, 'France'),\n",
       " Text(8, 0, 'Spain'),\n",
       " Text(9, 0, 'Australia')]"
      ]
     },
     "execution_count": 33,
     "metadata": {},
     "output_type": "execute_result"
    },
    {
     "data": {
      "image/png": "[encoded data removed]",
      "text/plain": [
       "<Figure size 1200x1000 with 1 Axes>"
      ]
     },
     "metadata": {},
     "output_type": "display_data"
    }
   ],
   "source": [
    "plt.figure(figsize=(12,10))\n",
    "ex=sns.barplot(b,x='country',y='count')\n",
    "for bars in ex.containers:\n",
    "    ex.bar_label(bars)\n",
    "ex.set_xticklabels(ex.get_xticklabels(), rotation=90)"
   ]
  },
  {
   "cell_type": "markdown",
   "id": "044f2c7c",
   "metadata": {
    "papermill": {
     "duration": 0.019892,
     "end_time": "2024-01-13T10:43:52.464415",
     "exception": false,
     "start_time": "2024-01-13T10:43:52.444523",
     "status": "completed"
    },
    "tags": []
   },
   "source": [
    "we can see that united states have most numbers of shows"
   ]
  },
  {
   "cell_type": "markdown",
   "id": "ccd0ba84",
   "metadata": {
    "papermill": {
     "duration": 0.020749,
     "end_time": "2024-01-13T10:43:52.506893",
     "exception": false,
     "start_time": "2024-01-13T10:43:52.486144",
     "status": "completed"
    },
    "tags": []
   },
   "source": [
    "TV series with many seasons"
   ]
  },
  {
   "cell_type": "code",
   "execution_count": 34,
   "id": "e1fa477a",
   "metadata": {
    "execution": {
     "iopub.execute_input": "2024-01-13T10:43:52.551092Z",
     "iopub.status.busy": "2024-01-13T10:43:52.550446Z",
     "iopub.status.idle": "2024-01-13T10:43:52.561789Z",
     "shell.execute_reply": "2024-01-13T10:43:52.560109Z"
    },
    "papermill": {
     "duration": 0.035862,
     "end_time": "2024-01-13T10:43:52.563982",
     "exception": false,
     "start_time": "2024-01-13T10:43:52.528120",
     "status": "completed"
    },
    "tags": []
   },
   "outputs": [
    {
     "data": {
      "text/html": [
       "<div>\n",
       "<style scoped>\n",
       "    .dataframe tbody tr th:only-of-type {\n",
       "        vertical-align: middle;\n",
       "    }\n",
       "\n",
       "    .dataframe tbody tr th {\n",
       "        vertical-align: top;\n",
       "    }\n",
       "\n",
       "    .dataframe thead th {\n",
       "        text-align: right;\n",
       "    }\n",
       "</style>\n",
       "<table border=\"1\" class=\"dataframe\">\n",
       "  <thead>\n",
       "    <tr style=\"text-align: right;\">\n",
       "      <th></th>\n",
       "      <th>title</th>\n",
       "      <th>duration</th>\n",
       "    </tr>\n",
       "  </thead>\n",
       "  <tbody>\n",
       "    <tr>\n",
       "      <th>1</th>\n",
       "      <td>Blood &amp; Water</td>\n",
       "      <td>2 Seasons</td>\n",
       "    </tr>\n",
       "    <tr>\n",
       "      <th>4</th>\n",
       "      <td>Kota Factory</td>\n",
       "      <td>2 Seasons</td>\n",
       "    </tr>\n",
       "    <tr>\n",
       "      <th>8</th>\n",
       "      <td>The Great British Baking Show</td>\n",
       "      <td>9 Seasons</td>\n",
       "    </tr>\n",
       "    <tr>\n",
       "      <th>15</th>\n",
       "      <td>Dear White People</td>\n",
       "      <td>4 Seasons</td>\n",
       "    </tr>\n",
       "    <tr>\n",
       "      <th>17</th>\n",
       "      <td>Falsa identidad</td>\n",
       "      <td>2 Seasons</td>\n",
       "    </tr>\n",
       "    <tr>\n",
       "      <th>...</th>\n",
       "      <td>...</td>\n",
       "      <td>...</td>\n",
       "    </tr>\n",
       "    <tr>\n",
       "      <th>8780</th>\n",
       "      <td>Yo-Kai Watch</td>\n",
       "      <td>1 Season</td>\n",
       "    </tr>\n",
       "    <tr>\n",
       "      <th>8795</th>\n",
       "      <td>Yu-Gi-Oh! Arc-V</td>\n",
       "      <td>2 Seasons</td>\n",
       "    </tr>\n",
       "    <tr>\n",
       "      <th>8796</th>\n",
       "      <td>Yunus Emre</td>\n",
       "      <td>2 Seasons</td>\n",
       "    </tr>\n",
       "    <tr>\n",
       "      <th>8797</th>\n",
       "      <td>Zak Storm</td>\n",
       "      <td>3 Seasons</td>\n",
       "    </tr>\n",
       "    <tr>\n",
       "      <th>8800</th>\n",
       "      <td>Zindagi Gulzar Hai</td>\n",
       "      <td>1 Season</td>\n",
       "    </tr>\n",
       "  </tbody>\n",
       "</table>\n",
       "<p>2283 rows × 2 columns</p>\n",
       "</div>"
      ],
      "text/plain": [
       "                              title   duration\n",
       "1                     Blood & Water  2 Seasons\n",
       "4                      Kota Factory  2 Seasons\n",
       "8     The Great British Baking Show  9 Seasons\n",
       "15                Dear White People  4 Seasons\n",
       "17                  Falsa identidad  2 Seasons\n",
       "...                             ...        ...\n",
       "8780                   Yo-Kai Watch   1 Season\n",
       "8795                Yu-Gi-Oh! Arc-V  2 Seasons\n",
       "8796                     Yunus Emre  2 Seasons\n",
       "8797                      Zak Storm  3 Seasons\n",
       "8800             Zindagi Gulzar Hai   1 Season\n",
       "\n",
       "[2283 rows x 2 columns]"
      ]
     },
     "execution_count": 34,
     "metadata": {},
     "output_type": "execute_result"
    }
   ],
   "source": [
    "features = ['title', 'duration']\n",
    "durations = netflix_shows[features]\n",
    "durations"
   ]
  },
  {
   "cell_type": "code",
   "execution_count": 35,
   "id": "4e99ba9a",
   "metadata": {
    "execution": {
     "iopub.execute_input": "2024-01-13T10:43:52.609839Z",
     "iopub.status.busy": "2024-01-13T10:43:52.608664Z",
     "iopub.status.idle": "2024-01-13T10:43:52.626536Z",
     "shell.execute_reply": "2024-01-13T10:43:52.624886Z"
    },
    "papermill": {
     "duration": 0.044489,
     "end_time": "2024-01-13T10:43:52.629302",
     "exception": false,
     "start_time": "2024-01-13T10:43:52.584813",
     "status": "completed"
    },
    "tags": []
   },
   "outputs": [
    {
     "data": {
      "text/html": [
       "<div>\n",
       "<style scoped>\n",
       "    .dataframe tbody tr th:only-of-type {\n",
       "        vertical-align: middle;\n",
       "    }\n",
       "\n",
       "    .dataframe tbody tr th {\n",
       "        vertical-align: top;\n",
       "    }\n",
       "\n",
       "    .dataframe thead th {\n",
       "        text-align: right;\n",
       "    }\n",
       "</style>\n",
       "<table border=\"1\" class=\"dataframe\">\n",
       "  <thead>\n",
       "    <tr style=\"text-align: right;\">\n",
       "      <th></th>\n",
       "      <th>title</th>\n",
       "      <th>duration</th>\n",
       "      <th>no_of_season</th>\n",
       "    </tr>\n",
       "  </thead>\n",
       "  <tbody>\n",
       "    <tr>\n",
       "      <th>1</th>\n",
       "      <td>Blood &amp; Water</td>\n",
       "      <td>2 Seasons</td>\n",
       "      <td>2s</td>\n",
       "    </tr>\n",
       "    <tr>\n",
       "      <th>4</th>\n",
       "      <td>Kota Factory</td>\n",
       "      <td>2 Seasons</td>\n",
       "      <td>2s</td>\n",
       "    </tr>\n",
       "    <tr>\n",
       "      <th>8</th>\n",
       "      <td>The Great British Baking Show</td>\n",
       "      <td>9 Seasons</td>\n",
       "      <td>9s</td>\n",
       "    </tr>\n",
       "    <tr>\n",
       "      <th>15</th>\n",
       "      <td>Dear White People</td>\n",
       "      <td>4 Seasons</td>\n",
       "      <td>4s</td>\n",
       "    </tr>\n",
       "    <tr>\n",
       "      <th>17</th>\n",
       "      <td>Falsa identidad</td>\n",
       "      <td>2 Seasons</td>\n",
       "      <td>2s</td>\n",
       "    </tr>\n",
       "    <tr>\n",
       "      <th>...</th>\n",
       "      <td>...</td>\n",
       "      <td>...</td>\n",
       "      <td>...</td>\n",
       "    </tr>\n",
       "    <tr>\n",
       "      <th>8780</th>\n",
       "      <td>Yo-Kai Watch</td>\n",
       "      <td>1 Season</td>\n",
       "      <td>1</td>\n",
       "    </tr>\n",
       "    <tr>\n",
       "      <th>8795</th>\n",
       "      <td>Yu-Gi-Oh! Arc-V</td>\n",
       "      <td>2 Seasons</td>\n",
       "      <td>2s</td>\n",
       "    </tr>\n",
       "    <tr>\n",
       "      <th>8796</th>\n",
       "      <td>Yunus Emre</td>\n",
       "      <td>2 Seasons</td>\n",
       "      <td>2s</td>\n",
       "    </tr>\n",
       "    <tr>\n",
       "      <th>8797</th>\n",
       "      <td>Zak Storm</td>\n",
       "      <td>3 Seasons</td>\n",
       "      <td>3s</td>\n",
       "    </tr>\n",
       "    <tr>\n",
       "      <th>8800</th>\n",
       "      <td>Zindagi Gulzar Hai</td>\n",
       "      <td>1 Season</td>\n",
       "      <td>1</td>\n",
       "    </tr>\n",
       "  </tbody>\n",
       "</table>\n",
       "<p>2283 rows × 3 columns</p>\n",
       "</div>"
      ],
      "text/plain": [
       "                              title   duration no_of_season\n",
       "1                     Blood & Water  2 Seasons           2s\n",
       "4                      Kota Factory  2 Seasons           2s\n",
       "8     The Great British Baking Show  9 Seasons           9s\n",
       "15                Dear White People  4 Seasons           4s\n",
       "17                  Falsa identidad  2 Seasons           2s\n",
       "...                             ...        ...          ...\n",
       "8780                   Yo-Kai Watch   1 Season            1\n",
       "8795                Yu-Gi-Oh! Arc-V  2 Seasons           2s\n",
       "8796                     Yunus Emre  2 Seasons           2s\n",
       "8797                      Zak Storm  3 Seasons           3s\n",
       "8800             Zindagi Gulzar Hai   1 Season            1\n",
       "\n",
       "[2283 rows x 3 columns]"
      ]
     },
     "execution_count": 35,
     "metadata": {},
     "output_type": "execute_result"
    }
   ],
   "source": [
    "durations['no_of_season']=durations['duration'].str.replace(' Season','')\n",
    "durations"
   ]
  },
  {
   "cell_type": "code",
   "execution_count": 36,
   "id": "ccdb47a3",
   "metadata": {
    "execution": {
     "iopub.execute_input": "2024-01-13T10:43:52.678029Z",
     "iopub.status.busy": "2024-01-13T10:43:52.677307Z",
     "iopub.status.idle": "2024-01-13T10:43:52.691955Z",
     "shell.execute_reply": "2024-01-13T10:43:52.690728Z"
    },
    "papermill": {
     "duration": 0.041395,
     "end_time": "2024-01-13T10:43:52.693985",
     "exception": false,
     "start_time": "2024-01-13T10:43:52.652590",
     "status": "completed"
    },
    "tags": []
   },
   "outputs": [
    {
     "data": {
      "text/html": [
       "<div>\n",
       "<style scoped>\n",
       "    .dataframe tbody tr th:only-of-type {\n",
       "        vertical-align: middle;\n",
       "    }\n",
       "\n",
       "    .dataframe tbody tr th {\n",
       "        vertical-align: top;\n",
       "    }\n",
       "\n",
       "    .dataframe thead th {\n",
       "        text-align: right;\n",
       "    }\n",
       "</style>\n",
       "<table border=\"1\" class=\"dataframe\">\n",
       "  <thead>\n",
       "    <tr style=\"text-align: right;\">\n",
       "      <th></th>\n",
       "      <th>title</th>\n",
       "      <th>duration</th>\n",
       "      <th>no_of_season</th>\n",
       "    </tr>\n",
       "  </thead>\n",
       "  <tbody>\n",
       "    <tr>\n",
       "      <th>1</th>\n",
       "      <td>Blood &amp; Water</td>\n",
       "      <td>2 Seasons</td>\n",
       "      <td>2</td>\n",
       "    </tr>\n",
       "    <tr>\n",
       "      <th>4</th>\n",
       "      <td>Kota Factory</td>\n",
       "      <td>2 Seasons</td>\n",
       "      <td>2</td>\n",
       "    </tr>\n",
       "    <tr>\n",
       "      <th>8</th>\n",
       "      <td>The Great British Baking Show</td>\n",
       "      <td>9 Seasons</td>\n",
       "      <td>9</td>\n",
       "    </tr>\n",
       "    <tr>\n",
       "      <th>15</th>\n",
       "      <td>Dear White People</td>\n",
       "      <td>4 Seasons</td>\n",
       "      <td>4</td>\n",
       "    </tr>\n",
       "    <tr>\n",
       "      <th>17</th>\n",
       "      <td>Falsa identidad</td>\n",
       "      <td>2 Seasons</td>\n",
       "      <td>2</td>\n",
       "    </tr>\n",
       "    <tr>\n",
       "      <th>...</th>\n",
       "      <td>...</td>\n",
       "      <td>...</td>\n",
       "      <td>...</td>\n",
       "    </tr>\n",
       "    <tr>\n",
       "      <th>8780</th>\n",
       "      <td>Yo-Kai Watch</td>\n",
       "      <td>1 Season</td>\n",
       "      <td>1</td>\n",
       "    </tr>\n",
       "    <tr>\n",
       "      <th>8795</th>\n",
       "      <td>Yu-Gi-Oh! Arc-V</td>\n",
       "      <td>2 Seasons</td>\n",
       "      <td>2</td>\n",
       "    </tr>\n",
       "    <tr>\n",
       "      <th>8796</th>\n",
       "      <td>Yunus Emre</td>\n",
       "      <td>2 Seasons</td>\n",
       "      <td>2</td>\n",
       "    </tr>\n",
       "    <tr>\n",
       "      <th>8797</th>\n",
       "      <td>Zak Storm</td>\n",
       "      <td>3 Seasons</td>\n",
       "      <td>3</td>\n",
       "    </tr>\n",
       "    <tr>\n",
       "      <th>8800</th>\n",
       "      <td>Zindagi Gulzar Hai</td>\n",
       "      <td>1 Season</td>\n",
       "      <td>1</td>\n",
       "    </tr>\n",
       "  </tbody>\n",
       "</table>\n",
       "<p>2283 rows × 3 columns</p>\n",
       "</div>"
      ],
      "text/plain": [
       "                              title   duration no_of_season\n",
       "1                     Blood & Water  2 Seasons            2\n",
       "4                      Kota Factory  2 Seasons            2\n",
       "8     The Great British Baking Show  9 Seasons            9\n",
       "15                Dear White People  4 Seasons            4\n",
       "17                  Falsa identidad  2 Seasons            2\n",
       "...                             ...        ...          ...\n",
       "8780                   Yo-Kai Watch   1 Season            1\n",
       "8795                Yu-Gi-Oh! Arc-V  2 Seasons            2\n",
       "8796                     Yunus Emre  2 Seasons            2\n",
       "8797                      Zak Storm  3 Seasons            3\n",
       "8800             Zindagi Gulzar Hai   1 Season            1\n",
       "\n",
       "[2283 rows x 3 columns]"
      ]
     },
     "execution_count": 36,
     "metadata": {},
     "output_type": "execute_result"
    }
   ],
   "source": [
    "durations['no_of_season']=durations['no_of_season'].str.replace('s','')\n",
    "durations"
   ]
  },
  {
   "cell_type": "code",
   "execution_count": 37,
   "id": "7d26888f",
   "metadata": {
    "execution": {
     "iopub.execute_input": "2024-01-13T10:43:52.741547Z",
     "iopub.status.busy": "2024-01-13T10:43:52.740926Z",
     "iopub.status.idle": "2024-01-13T10:43:52.746253Z",
     "shell.execute_reply": "2024-01-13T10:43:52.745147Z"
    },
    "papermill": {
     "duration": 0.032038,
     "end_time": "2024-01-13T10:43:52.748179",
     "exception": false,
     "start_time": "2024-01-13T10:43:52.716141",
     "status": "completed"
    },
    "tags": []
   },
   "outputs": [],
   "source": [
    "durations['no_of_season']=durations['no_of_season'].astype(int)"
   ]
  },
  {
   "cell_type": "code",
   "execution_count": 38,
   "id": "ae1ceb66",
   "metadata": {
    "execution": {
     "iopub.execute_input": "2024-01-13T10:43:52.795865Z",
     "iopub.status.busy": "2024-01-13T10:43:52.795173Z",
     "iopub.status.idle": "2024-01-13T10:43:52.808764Z",
     "shell.execute_reply": "2024-01-13T10:43:52.807294Z"
    },
    "papermill": {
     "duration": 0.040296,
     "end_time": "2024-01-13T10:43:52.810947",
     "exception": false,
     "start_time": "2024-01-13T10:43:52.770651",
     "status": "completed"
    },
    "tags": []
   },
   "outputs": [
    {
     "data": {
      "text/html": [
       "<div>\n",
       "<style scoped>\n",
       "    .dataframe tbody tr th:only-of-type {\n",
       "        vertical-align: middle;\n",
       "    }\n",
       "\n",
       "    .dataframe tbody tr th {\n",
       "        vertical-align: top;\n",
       "    }\n",
       "\n",
       "    .dataframe thead th {\n",
       "        text-align: right;\n",
       "    }\n",
       "</style>\n",
       "<table border=\"1\" class=\"dataframe\">\n",
       "  <thead>\n",
       "    <tr style=\"text-align: right;\">\n",
       "      <th></th>\n",
       "      <th>title</th>\n",
       "      <th>no_of_season</th>\n",
       "    </tr>\n",
       "  </thead>\n",
       "  <tbody>\n",
       "    <tr>\n",
       "      <th>1</th>\n",
       "      <td>Blood &amp; Water</td>\n",
       "      <td>2</td>\n",
       "    </tr>\n",
       "    <tr>\n",
       "      <th>4</th>\n",
       "      <td>Kota Factory</td>\n",
       "      <td>2</td>\n",
       "    </tr>\n",
       "    <tr>\n",
       "      <th>8</th>\n",
       "      <td>The Great British Baking Show</td>\n",
       "      <td>9</td>\n",
       "    </tr>\n",
       "    <tr>\n",
       "      <th>15</th>\n",
       "      <td>Dear White People</td>\n",
       "      <td>4</td>\n",
       "    </tr>\n",
       "    <tr>\n",
       "      <th>17</th>\n",
       "      <td>Falsa identidad</td>\n",
       "      <td>2</td>\n",
       "    </tr>\n",
       "    <tr>\n",
       "      <th>...</th>\n",
       "      <td>...</td>\n",
       "      <td>...</td>\n",
       "    </tr>\n",
       "    <tr>\n",
       "      <th>8780</th>\n",
       "      <td>Yo-Kai Watch</td>\n",
       "      <td>1</td>\n",
       "    </tr>\n",
       "    <tr>\n",
       "      <th>8795</th>\n",
       "      <td>Yu-Gi-Oh! Arc-V</td>\n",
       "      <td>2</td>\n",
       "    </tr>\n",
       "    <tr>\n",
       "      <th>8796</th>\n",
       "      <td>Yunus Emre</td>\n",
       "      <td>2</td>\n",
       "    </tr>\n",
       "    <tr>\n",
       "      <th>8797</th>\n",
       "      <td>Zak Storm</td>\n",
       "      <td>3</td>\n",
       "    </tr>\n",
       "    <tr>\n",
       "      <th>8800</th>\n",
       "      <td>Zindagi Gulzar Hai</td>\n",
       "      <td>1</td>\n",
       "    </tr>\n",
       "  </tbody>\n",
       "</table>\n",
       "<p>2283 rows × 2 columns</p>\n",
       "</div>"
      ],
      "text/plain": [
       "                              title  no_of_season\n",
       "1                     Blood & Water             2\n",
       "4                      Kota Factory             2\n",
       "8     The Great British Baking Show             9\n",
       "15                Dear White People             4\n",
       "17                  Falsa identidad             2\n",
       "...                             ...           ...\n",
       "8780                   Yo-Kai Watch             1\n",
       "8795                Yu-Gi-Oh! Arc-V             2\n",
       "8796                     Yunus Emre             2\n",
       "8797                      Zak Storm             3\n",
       "8800             Zindagi Gulzar Hai             1\n",
       "\n",
       "[2283 rows x 2 columns]"
      ]
     },
     "execution_count": 38,
     "metadata": {},
     "output_type": "execute_result"
    }
   ],
   "source": [
    "c=['title','no_of_season']\n",
    "top=durations[c]\n",
    "top"
   ]
  },
  {
   "cell_type": "code",
   "execution_count": 39,
   "id": "10f16938",
   "metadata": {
    "execution": {
     "iopub.execute_input": "2024-01-13T10:43:52.860638Z",
     "iopub.status.busy": "2024-01-13T10:43:52.859961Z",
     "iopub.status.idle": "2024-01-13T10:43:53.343155Z",
     "shell.execute_reply": "2024-01-13T10:43:53.341454Z"
    },
    "papermill": {
     "duration": 0.510655,
     "end_time": "2024-01-13T10:43:53.346014",
     "exception": false,
     "start_time": "2024-01-13T10:43:52.835359",
     "status": "completed"
    },
    "tags": []
   },
   "outputs": [
    {
     "data": {
      "text/plain": [
       "([<matplotlib.axis.XTick at 0x7b706b1c94b0>,\n",
       "  <matplotlib.axis.XTick at 0x7b706b1c9480>,\n",
       "  <matplotlib.axis.XTick at 0x7b706b2c3b50>,\n",
       "  <matplotlib.axis.XTick at 0x7b706bd88220>,\n",
       "  <matplotlib.axis.XTick at 0x7b706b2106a0>,\n",
       "  <matplotlib.axis.XTick at 0x7b706b1b3f70>,\n",
       "  <matplotlib.axis.XTick at 0x7b706b2110c0>,\n",
       "  <matplotlib.axis.XTick at 0x7b706b2118d0>,\n",
       "  <matplotlib.axis.XTick at 0x7b706b2120b0>,\n",
       "  <matplotlib.axis.XTick at 0x7b706b212890>,\n",
       "  <matplotlib.axis.XTick at 0x7b706b212440>,\n",
       "  <matplotlib.axis.XTick at 0x7b706b210eb0>,\n",
       "  <matplotlib.axis.XTick at 0x7b706b2133d0>,\n",
       "  <matplotlib.axis.XTick at 0x7b706b213bb0>,\n",
       "  <matplotlib.axis.XTick at 0x7b706b2343d0>,\n",
       "  <matplotlib.axis.XTick at 0x7b706b213a30>,\n",
       "  <matplotlib.axis.XTick at 0x7b706b2125f0>,\n",
       "  <matplotlib.axis.XTick at 0x7b706b234df0>,\n",
       "  <matplotlib.axis.XTick at 0x7b706b2355d0>,\n",
       "  <matplotlib.axis.XTick at 0x7b706b235db0>],\n",
       " [Text(0.0, 0, \"Grey's Anatomy\"),\n",
       "  Text(1.0, 0, 'Supernatural'),\n",
       "  Text(2.0, 0, 'NCIS'),\n",
       "  Text(3.0, 0, 'Red vs. Blue'),\n",
       "  Text(4.0, 0, 'COMEDIANS of the world'),\n",
       "  Text(5.0, 0, 'Heartland'),\n",
       "  Text(6.0, 0, 'Criminal Minds'),\n",
       "  Text(7.0, 0, 'Trailer Park Boys'),\n",
       "  Text(8.0, 0, 'Cheers'),\n",
       "  Text(9.0, 0, 'Frasier'),\n",
       "  Text(10.0, 0, 'Friends'),\n",
       "  Text(11.0, 0, 'Stargate SG-1'),\n",
       "  Text(12.0, 0, 'The Walking Dead'),\n",
       "  Text(13.0, 0, \"Dad's Army\"),\n",
       "  Text(14.0, 0, 'Shameless (U.S.)'),\n",
       "  Text(15.0, 0, 'LEGO Ninjago: Masters of Spinjitzu'),\n",
       "  Text(16.0, 0, 'Danger Mouse: Classic Collection'),\n",
       "  Text(17.0, 0, 'Forensic Files'),\n",
       "  Text(18.0, 0, 'American Horror Story'),\n",
       "  Text(19.0, 0, 'Still Game')])"
      ]
     },
     "execution_count": 39,
     "metadata": {},
     "output_type": "execute_result"
    },
    {
     "data": {
      "image/png": "[encoded data removed]",
      "text/plain": [
       "<Figure size 1200x700 with 1 Axes>"
      ]
     },
     "metadata": {},
     "output_type": "display_data"
    }
   ],
   "source": [
    "top=top.sort_values(by='no_of_season',ascending=False)\n",
    "top20=top[0:20]\n",
    "plt.figure(figsize = (12,7))\n",
    "fx=plt.bar(top20['title'], top20['no_of_season'])\n",
    "plt.xticks(top20['title'], rotation= 90)\n",
    "\n"
   ]
  },
  {
   "cell_type": "markdown",
   "id": "c91dd11f",
   "metadata": {
    "papermill": {
     "duration": 0.022768,
     "end_time": "2024-01-13T10:43:53.391658",
     "exception": false,
     "start_time": "2024-01-13T10:43:53.368890",
     "status": "completed"
    },
    "tags": []
   },
   "source": [
    "Fewest number of seasons"
   ]
  },
  {
   "cell_type": "code",
   "execution_count": 40,
   "id": "06551eb9",
   "metadata": {
    "execution": {
     "iopub.execute_input": "2024-01-13T10:43:53.441395Z",
     "iopub.status.busy": "2024-01-13T10:43:53.440920Z",
     "iopub.status.idle": "2024-01-13T10:43:53.453825Z",
     "shell.execute_reply": "2024-01-13T10:43:53.452495Z"
    },
    "papermill": {
     "duration": 0.042218,
     "end_time": "2024-01-13T10:43:53.457315",
     "exception": false,
     "start_time": "2024-01-13T10:43:53.415097",
     "status": "completed"
    },
    "tags": []
   },
   "outputs": [
    {
     "data": {
      "text/html": [
       "<div>\n",
       "<style scoped>\n",
       "    .dataframe tbody tr th:only-of-type {\n",
       "        vertical-align: middle;\n",
       "    }\n",
       "\n",
       "    .dataframe tbody tr th {\n",
       "        vertical-align: top;\n",
       "    }\n",
       "\n",
       "    .dataframe thead th {\n",
       "        text-align: right;\n",
       "    }\n",
       "</style>\n",
       "<table border=\"1\" class=\"dataframe\">\n",
       "  <thead>\n",
       "    <tr style=\"text-align: right;\">\n",
       "      <th></th>\n",
       "      <th>title</th>\n",
       "      <th>no_of_season</th>\n",
       "    </tr>\n",
       "  </thead>\n",
       "  <tbody>\n",
       "    <tr>\n",
       "      <th>1200</th>\n",
       "      <td>Waffles + Mochi</td>\n",
       "      <td>1</td>\n",
       "    </tr>\n",
       "    <tr>\n",
       "      <th>3294</th>\n",
       "      <td>Greatest Events of WWII in Colour</td>\n",
       "      <td>1</td>\n",
       "    </tr>\n",
       "    <tr>\n",
       "      <th>3274</th>\n",
       "      <td>La Robe De Mariee Des Cieux</td>\n",
       "      <td>1</td>\n",
       "    </tr>\n",
       "    <tr>\n",
       "      <th>3277</th>\n",
       "      <td>My Sassy Girl</td>\n",
       "      <td>1</td>\n",
       "    </tr>\n",
       "    <tr>\n",
       "      <th>3279</th>\n",
       "      <td>The Club</td>\n",
       "      <td>1</td>\n",
       "    </tr>\n",
       "    <tr>\n",
       "      <th>3281</th>\n",
       "      <td>The Stranded</td>\n",
       "      <td>1</td>\n",
       "    </tr>\n",
       "    <tr>\n",
       "      <th>2098</th>\n",
       "      <td>Emily's Wonder Lab</td>\n",
       "      <td>1</td>\n",
       "    </tr>\n",
       "    <tr>\n",
       "      <th>2096</th>\n",
       "      <td>Million Dollar Beach House</td>\n",
       "      <td>1</td>\n",
       "    </tr>\n",
       "    <tr>\n",
       "      <th>3286</th>\n",
       "      <td>My Dear Warrior</td>\n",
       "      <td>1</td>\n",
       "    </tr>\n",
       "    <tr>\n",
       "      <th>3287</th>\n",
       "      <td>Maradona in Mexico</td>\n",
       "      <td>1</td>\n",
       "    </tr>\n",
       "    <tr>\n",
       "      <th>2093</th>\n",
       "      <td>Her Mother's Killer</td>\n",
       "      <td>1</td>\n",
       "    </tr>\n",
       "    <tr>\n",
       "      <th>3291</th>\n",
       "      <td>Put Your Head on My Shoulder</td>\n",
       "      <td>1</td>\n",
       "    </tr>\n",
       "    <tr>\n",
       "      <th>3276</th>\n",
       "      <td>My MVP Valentine</td>\n",
       "      <td>1</td>\n",
       "    </tr>\n",
       "    <tr>\n",
       "      <th>1360</th>\n",
       "      <td>The House Arrest of Us</td>\n",
       "      <td>1</td>\n",
       "    </tr>\n",
       "    <tr>\n",
       "      <th>4933</th>\n",
       "      <td>AMO</td>\n",
       "      <td>1</td>\n",
       "    </tr>\n",
       "    <tr>\n",
       "      <th>5036</th>\n",
       "      <td>Everything Sucks!</td>\n",
       "      <td>1</td>\n",
       "    </tr>\n",
       "    <tr>\n",
       "      <th>7142</th>\n",
       "      <td>Juana Brava</td>\n",
       "      <td>1</td>\n",
       "    </tr>\n",
       "    <tr>\n",
       "      <th>7143</th>\n",
       "      <td>Juana Inés</td>\n",
       "      <td>1</td>\n",
       "    </tr>\n",
       "    <tr>\n",
       "      <th>7256</th>\n",
       "      <td>La Piloto</td>\n",
       "      <td>1</td>\n",
       "    </tr>\n",
       "    <tr>\n",
       "      <th>627</th>\n",
       "      <td>The Daily Life of the Immortal King</td>\n",
       "      <td>1</td>\n",
       "    </tr>\n",
       "  </tbody>\n",
       "</table>\n",
       "</div>"
      ],
      "text/plain": [
       "                                    title  no_of_season\n",
       "1200                      Waffles + Mochi             1\n",
       "3294    Greatest Events of WWII in Colour             1\n",
       "3274          La Robe De Mariee Des Cieux             1\n",
       "3277                        My Sassy Girl             1\n",
       "3279                             The Club             1\n",
       "3281                         The Stranded             1\n",
       "2098                   Emily's Wonder Lab             1\n",
       "2096           Million Dollar Beach House             1\n",
       "3286                      My Dear Warrior             1\n",
       "3287                   Maradona in Mexico             1\n",
       "2093                  Her Mother's Killer             1\n",
       "3291         Put Your Head on My Shoulder             1\n",
       "3276                     My MVP Valentine             1\n",
       "1360               The House Arrest of Us             1\n",
       "4933                                  AMO             1\n",
       "5036                    Everything Sucks!             1\n",
       "7142                          Juana Brava             1\n",
       "7143                           Juana Inés             1\n",
       "7256                            La Piloto             1\n",
       "627   The Daily Life of the Immortal King             1"
      ]
     },
     "execution_count": 40,
     "metadata": {},
     "output_type": "execute_result"
    }
   ],
   "source": [
    "bottom=top.sort_values(by='no_of_season')\n",
    "bottom20=bottom[0:20]\n",
    "bottom20"
   ]
  },
  {
   "cell_type": "markdown",
   "id": "8e8ac5bc",
   "metadata": {
    "papermill": {
     "duration": 0.024833,
     "end_time": "2024-01-13T10:43:53.506196",
     "exception": false,
     "start_time": "2024-01-13T10:43:53.481363",
     "status": "completed"
    },
    "tags": []
   },
   "source": [
    "Genre Analysis"
   ]
  },
  {
   "cell_type": "code",
   "execution_count": 41,
   "id": "b2c86e54",
   "metadata": {
    "execution": {
     "iopub.execute_input": "2024-01-13T10:43:53.555782Z",
     "iopub.status.busy": "2024-01-13T10:43:53.555392Z",
     "iopub.status.idle": "2024-01-13T10:43:53.563867Z",
     "shell.execute_reply": "2024-01-13T10:43:53.562849Z"
    },
    "papermill": {
     "duration": 0.035116,
     "end_time": "2024-01-13T10:43:53.565636",
     "exception": false,
     "start_time": "2024-01-13T10:43:53.530520",
     "status": "completed"
    },
    "tags": []
   },
   "outputs": [
    {
     "data": {
      "text/plain": [
       "1         International TV Shows, TV Dramas, TV Mysteries\n",
       "4       International TV Shows, Romantic TV Shows, TV ...\n",
       "8                            British TV Shows, Reality TV\n",
       "15                                 TV Comedies, TV Dramas\n",
       "17      Crime TV Shows, Spanish-Language TV Shows, TV ...\n",
       "                              ...                        \n",
       "8780                               Anime Series, Kids' TV\n",
       "8795                               Anime Series, Kids' TV\n",
       "8796                    International TV Shows, TV Dramas\n",
       "8797                                             Kids' TV\n",
       "8800    International TV Shows, Romantic TV Shows, TV ...\n",
       "Name: listed_in, Length: 2283, dtype: object"
      ]
     },
     "execution_count": 41,
     "metadata": {},
     "output_type": "execute_result"
    }
   ],
   "source": [
    "netflix_shows['listed_in']"
   ]
  },
  {
   "cell_type": "code",
   "execution_count": 42,
   "id": "642de335",
   "metadata": {
    "execution": {
     "iopub.execute_input": "2024-01-13T10:43:53.614155Z",
     "iopub.status.busy": "2024-01-13T10:43:53.613512Z",
     "iopub.status.idle": "2024-01-13T10:43:53.623131Z",
     "shell.execute_reply": "2024-01-13T10:43:53.621980Z"
    },
    "papermill": {
     "duration": 0.037453,
     "end_time": "2024-01-13T10:43:53.625788",
     "exception": false,
     "start_time": "2024-01-13T10:43:53.588335",
     "status": "completed"
    },
    "tags": []
   },
   "outputs": [],
   "source": [
    "genres = list(netflix_shows['listed_in'])\n",
    "gen = []\n",
    "for i in genres :\n",
    "    i = list(i.split(','))\n",
    "    for j in i:\n",
    "        gen.append(j.replace(' ', ''))\n",
    "g = Counter(gen)"
   ]
  },
  {
   "cell_type": "code",
   "execution_count": 43,
   "id": "9fca3798",
   "metadata": {
    "execution": {
     "iopub.execute_input": "2024-01-13T10:43:53.674855Z",
     "iopub.status.busy": "2024-01-13T10:43:53.674081Z",
     "iopub.status.idle": "2024-01-13T10:43:53.680788Z",
     "shell.execute_reply": "2024-01-13T10:43:53.680032Z"
    },
    "papermill": {
     "duration": 0.033407,
     "end_time": "2024-01-13T10:43:53.682374",
     "exception": false,
     "start_time": "2024-01-13T10:43:53.648967",
     "status": "completed"
    },
    "tags": []
   },
   "outputs": [
    {
     "data": {
      "text/plain": [
       "[('InternationalTVShows', 1127),\n",
       " ('TVDramas', 663),\n",
       " ('TVComedies', 500),\n",
       " ('CrimeTVShows', 421),\n",
       " (\"Kids'TV\", 369),\n",
       " ('Docuseries', 330),\n",
       " ('RomanticTVShows', 299),\n",
       " ('BritishTVShows', 237),\n",
       " ('RealityTV', 205),\n",
       " ('TVAction&Adventure', 153),\n",
       " ('AnimeSeries', 153),\n",
       " ('Spanish-LanguageTVShows', 145),\n",
       " ('KoreanTVShows', 136),\n",
       " ('TVMysteries', 92),\n",
       " ('Science&NatureTV', 82),\n",
       " ('TVSci-Fi&Fantasy', 79),\n",
       " ('TVHorror', 72),\n",
       " ('TeenTVShows', 66),\n",
       " ('TVThrillers', 53),\n",
       " ('Stand-UpComedy&TalkShows', 47),\n",
       " ('Classic&CultTV', 27),\n",
       " ('TVShows', 9)]"
      ]
     },
     "execution_count": 43,
     "metadata": {},
     "output_type": "execute_result"
    }
   ],
   "source": [
    "g = sorted(g.items(), key = lambda item: g[item[0]], reverse = True)\n",
    "g"
   ]
  },
  {
   "cell_type": "code",
   "execution_count": 44,
   "id": "4c1d418a",
   "metadata": {
    "execution": {
     "iopub.execute_input": "2024-01-13T10:43:53.733367Z",
     "iopub.status.busy": "2024-01-13T10:43:53.732698Z",
     "iopub.status.idle": "2024-01-13T10:43:53.739831Z",
     "shell.execute_reply": "2024-01-13T10:43:53.738108Z"
    },
    "papermill": {
     "duration": 0.035213,
     "end_time": "2024-01-13T10:43:53.742425",
     "exception": false,
     "start_time": "2024-01-13T10:43:53.707212",
     "status": "completed"
    },
    "tags": []
   },
   "outputs": [
    {
     "data": {
      "text/plain": [
       "[1127,\n",
       " 663,\n",
       " 500,\n",
       " 421,\n",
       " 369,\n",
       " 330,\n",
       " 299,\n",
       " 237,\n",
       " 205,\n",
       " 153,\n",
       " 153,\n",
       " 145,\n",
       " 136,\n",
       " 92,\n",
       " 82,\n",
       " 79,\n",
       " 72,\n",
       " 66,\n",
       " 53,\n",
       " 47,\n",
       " 27,\n",
       " 9]"
      ]
     },
     "execution_count": 44,
     "metadata": {},
     "output_type": "execute_result"
    }
   ],
   "source": [
    "genre_names = [name for name , value in g]\n",
    "genre_names\n",
    "genre_value = [value for name , value in g]\n",
    "genre_value"
   ]
  },
  {
   "cell_type": "code",
   "execution_count": 45,
   "id": "9142373b",
   "metadata": {
    "execution": {
     "iopub.execute_input": "2024-01-13T10:43:53.794156Z",
     "iopub.status.busy": "2024-01-13T10:43:53.793603Z",
     "iopub.status.idle": "2024-01-13T10:43:54.394315Z",
     "shell.execute_reply": "2024-01-13T10:43:54.392579Z"
    },
    "papermill": {
     "duration": 0.629744,
     "end_time": "2024-01-13T10:43:54.396545",
     "exception": false,
     "start_time": "2024-01-13T10:43:53.766801",
     "status": "completed"
    },
    "tags": []
   },
   "outputs": [
    {
     "data": {
      "image/png": "[encoded data removed]",
      "text/plain": [
       "<Figure size 1000x1000 with 1 Axes>"
      ]
     },
     "metadata": {},
     "output_type": "display_data"
    }
   ],
   "source": [
    "fig = plt.figure(figsize = (10,10))\n",
    "ax = sns.barplot(x = genre_names, y =  genre_value)\n",
    "for bars in ax.containers:\n",
    "    ax.bar_label(bars)\n",
    "ax.set_xticklabels(genre_names, rotation = 90)\n",
    "ax.set_ylabel('Count of TV Shows')\n",
    "ax.set_title('Genres');"
   ]
  },
  {
   "cell_type": "markdown",
   "id": "eab26a64",
   "metadata": {
    "papermill": {
     "duration": 0.022712,
     "end_time": "2024-01-13T10:43:54.442475",
     "exception": false,
     "start_time": "2024-01-13T10:43:54.419763",
     "status": "completed"
    },
    "tags": []
   },
   "source": [
    "we can see that internationaltv shows has the most number of count"
   ]
  },
  {
   "cell_type": "markdown",
   "id": "d132d3d7",
   "metadata": {
    "papermill": {
     "duration": 0.023905,
     "end_time": "2024-01-13T10:43:54.490285",
     "exception": false,
     "start_time": "2024-01-13T10:43:54.466380",
     "status": "completed"
    },
    "tags": []
   },
   "source": [
    "Analysis and duration of the series"
   ]
  },
  {
   "cell_type": "code",
   "execution_count": 46,
   "id": "78a38c19",
   "metadata": {
    "execution": {
     "iopub.execute_input": "2024-01-13T10:43:54.542830Z",
     "iopub.status.busy": "2024-01-13T10:43:54.542252Z",
     "iopub.status.idle": "2024-01-13T10:43:54.553005Z",
     "shell.execute_reply": "2024-01-13T10:43:54.552052Z"
    },
    "papermill": {
     "duration": 0.03898,
     "end_time": "2024-01-13T10:43:54.554819",
     "exception": false,
     "start_time": "2024-01-13T10:43:54.515839",
     "status": "completed"
    },
    "tags": []
   },
   "outputs": [
    {
     "data": {
      "text/html": [
       "<div>\n",
       "<style scoped>\n",
       "    .dataframe tbody tr th:only-of-type {\n",
       "        vertical-align: middle;\n",
       "    }\n",
       "\n",
       "    .dataframe tbody tr th {\n",
       "        vertical-align: top;\n",
       "    }\n",
       "\n",
       "    .dataframe thead th {\n",
       "        text-align: right;\n",
       "    }\n",
       "</style>\n",
       "<table border=\"1\" class=\"dataframe\">\n",
       "  <thead>\n",
       "    <tr style=\"text-align: right;\">\n",
       "      <th></th>\n",
       "      <th>title</th>\n",
       "      <th>no_of_season</th>\n",
       "    </tr>\n",
       "  </thead>\n",
       "  <tbody>\n",
       "    <tr>\n",
       "      <th>1</th>\n",
       "      <td>Blood &amp; Water</td>\n",
       "      <td>2</td>\n",
       "    </tr>\n",
       "    <tr>\n",
       "      <th>4</th>\n",
       "      <td>Kota Factory</td>\n",
       "      <td>2</td>\n",
       "    </tr>\n",
       "    <tr>\n",
       "      <th>8</th>\n",
       "      <td>The Great British Baking Show</td>\n",
       "      <td>9</td>\n",
       "    </tr>\n",
       "    <tr>\n",
       "      <th>15</th>\n",
       "      <td>Dear White People</td>\n",
       "      <td>4</td>\n",
       "    </tr>\n",
       "    <tr>\n",
       "      <th>17</th>\n",
       "      <td>Falsa identidad</td>\n",
       "      <td>2</td>\n",
       "    </tr>\n",
       "    <tr>\n",
       "      <th>...</th>\n",
       "      <td>...</td>\n",
       "      <td>...</td>\n",
       "    </tr>\n",
       "    <tr>\n",
       "      <th>8780</th>\n",
       "      <td>Yo-Kai Watch</td>\n",
       "      <td>1</td>\n",
       "    </tr>\n",
       "    <tr>\n",
       "      <th>8795</th>\n",
       "      <td>Yu-Gi-Oh! Arc-V</td>\n",
       "      <td>2</td>\n",
       "    </tr>\n",
       "    <tr>\n",
       "      <th>8796</th>\n",
       "      <td>Yunus Emre</td>\n",
       "      <td>2</td>\n",
       "    </tr>\n",
       "    <tr>\n",
       "      <th>8797</th>\n",
       "      <td>Zak Storm</td>\n",
       "      <td>3</td>\n",
       "    </tr>\n",
       "    <tr>\n",
       "      <th>8800</th>\n",
       "      <td>Zindagi Gulzar Hai</td>\n",
       "      <td>1</td>\n",
       "    </tr>\n",
       "  </tbody>\n",
       "</table>\n",
       "<p>2283 rows × 2 columns</p>\n",
       "</div>"
      ],
      "text/plain": [
       "                              title  no_of_season\n",
       "1                     Blood & Water             2\n",
       "4                      Kota Factory             2\n",
       "8     The Great British Baking Show             9\n",
       "15                Dear White People             4\n",
       "17                  Falsa identidad             2\n",
       "...                             ...           ...\n",
       "8780                   Yo-Kai Watch             1\n",
       "8795                Yu-Gi-Oh! Arc-V             2\n",
       "8796                     Yunus Emre             2\n",
       "8797                      Zak Storm             3\n",
       "8800             Zindagi Gulzar Hai             1\n",
       "\n",
       "[2283 rows x 2 columns]"
      ]
     },
     "execution_count": 46,
     "metadata": {},
     "output_type": "execute_result"
    }
   ],
   "source": [
    "durations[c]"
   ]
  },
  {
   "cell_type": "code",
   "execution_count": 47,
   "id": "00f94fd4",
   "metadata": {
    "execution": {
     "iopub.execute_input": "2024-01-13T10:43:54.604271Z",
     "iopub.status.busy": "2024-01-13T10:43:54.603935Z",
     "iopub.status.idle": "2024-01-13T10:43:55.069299Z",
     "shell.execute_reply": "2024-01-13T10:43:55.068081Z"
    },
    "papermill": {
     "duration": 0.492508,
     "end_time": "2024-01-13T10:43:55.071473",
     "exception": false,
     "start_time": "2024-01-13T10:43:54.578965",
     "status": "completed"
    },
    "tags": []
   },
   "outputs": [
    {
     "data": {
      "image/png": "[encoded data removed]",
      "text/plain": [
       "<Figure size 1000x800 with 1 Axes>"
      ]
     },
     "metadata": {},
     "output_type": "display_data"
    }
   ],
   "source": [
    "sns.set(style = 'darkgrid')\n",
    "plt.figure(figsize = (10,8))\n",
    "sns.kdeplot(data = durations['no_of_season'], shade = True)\n",
    "plt.xticks(sorted(durations['no_of_season'].unique()));\n"
   ]
  }
 ],
 "metadata": {
  "kaggle": {
   "accelerator": "none",
   "dataSources": [
    {
     "datasetId": 434238,
     "sourceId": 2654038,
     "sourceType": "datasetVersion"
    }
   ],
   "dockerImageVersionId": 30635,
   "isGpuEnabled": false,
   "isInternetEnabled": true,
   "language": "python",
   "sourceType": "notebook"
  },
  "kernelspec": {
   "display_name": "Python 3 (ipykernel)",
   "language": "python",
   "name": "python3"
  },
  "language_info": {
   "codemirror_mode": {
    "name": "ipython",
    "version": 3
   },
   "file_extension": ".py",
   "mimetype": "text/x-python",
   "name": "python",
   "nbconvert_exporter": "python",
   "pygments_lexer": "ipython3",
   "version": "3.12.1"
  },
  "papermill": {
   "default_parameters": {},
   "duration": 13.727686,
   "end_time": "2024-01-13T10:43:55.919571",
   "environment_variables": {},
   "exception": null,
   "input_path": "__notebook__.ipynb",
   "output_path": "__notebook__.ipynb",
   "parameters": {},
   "start_time": "2024-01-13T10:43:42.191885",
   "version": "2.4.0"
  }
 },
 "nbformat": 4,
 "nbformat_minor": 5
}
